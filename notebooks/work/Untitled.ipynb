{
 "cells": [
  {
   "cell_type": "code",
   "execution_count": 15,
   "id": "c668d9a0",
   "metadata": {},
   "outputs": [],
   "source": [
    "txs = \"\"\"01 Apr 23,-5.56,Card ending 8493, ,PURCHASE AUTHORISATION,Madison Cornerstore Yarraville,Food & drink,Madison Coffee & Corner Store\n",
    "31 Mar 23,-5.06,Card ending 8493, ,CREDIT CARD PURCHASE,Madison Cornerstore Yarraville,Food & drink,Madison Coffee & Corner Store\n",
    "31 Mar 23,-5.06,Card ending 8493, ,PURCHASE AUTHORISATION,Madison Cornerstore Yarraville,Food & drink,Madison Coffee & Corner Store\n",
    "31 Mar 23,-5.06,Card ending 8493, ,CREDIT CARD PURCHASE,Madison Cornerstore Yarraville,Food & drink,Madison Coffee & Corner Store\n",
    "30 Mar 23,-5.06,Card ending 8493, ,CREDIT CARD PURCHASE,Madison Cornerstore Yarraville,Food & drink,Madison Coffee & Corner Store\n",
    "30 Mar 23,-5.06,Card ending 8493, ,CREDIT CARD PURCHASE,Madison Cornerstore Yarraville,Food & drink,Madison Coffee & Corner Store\n",
    "29 Mar 23,-5.06,Card ending 8493, ,CREDIT CARD PURCHASE,Madison Cornerstore Yarraville,Food & drink,Madison Coffee & Corner Store\n",
    "28 Mar 23,-5.06,Card ending 8493, ,CREDIT CARD PURCHASE,Madison Cornerstore Yarraville,Food & drink,Madison Coffee & Corner Store\n",
    "28 Mar 23,-5.06,Card ending 8493, ,CREDIT CARD PURCHASE,Madison Cornerstore Yarraville,Food & drink,Madison Coffee & Corner Store\n",
    "27 Mar 23,-5.56,Card ending 8493, ,CREDIT CARD PURCHASE,Madison Cornerstore Yarraville,Food & drink,Madison Coffee & Corner Store\n",
    "27 Mar 23,-5.06,Card ending 8493, ,CREDIT CARD PURCHASE,Madison Cornerstore Yarraville,Food & drink,Madison Coffee & Corner Store\n",
    "27 Mar 23,-5.56,Card ending 8493, ,CREDIT CARD PURCHASE,Madison Cornerstore Yarraville,Food & drink,Madison Coffee & Corner Store\n",
    "24 Mar 23,-5.06,Card ending 8493, ,CREDIT CARD PURCHASE,Madison Cornerstore Yarraville,Food & drink,Madison Coffee & Corner Store\n",
    "23 Mar 23,-5.06,Card ending 8493, ,CREDIT CARD PURCHASE,Madison Cornerstore Yarraville,Food & drink,Madison Coffee & Corner Store\n",
    "22 Mar 23,-5.06,Card ending 8493, ,CREDIT CARD PURCHASE,Madison Cornerstore Yarraville,Food & drink,Madison Coffee & Corner Store\n",
    "21 Mar 23,-5.06,Card ending 8493, ,CREDIT CARD PURCHASE,Madison Cornerstore Yarraville,Food & drink,Madison Coffee & Corner Store\n",
    "21 Mar 23,-5.06,Card ending 8493, ,CREDIT CARD PURCHASE,Madison Cornerstore Yarraville,Food & drink,Madison Coffee & Corner Store\n",
    "20 Mar 23,-5.56,Card ending 8493, ,CREDIT CARD PURCHASE,Madison Cornerstore Yarraville,Food & drink,Madison Coffee & Corner Store\n",
    "20 Mar 23,-5.06,Card ending 8493, ,CREDIT CARD PURCHASE,Madison Cornerstore Yarraville,Food & drink,Madison Coffee & Corner Store\n",
    "17 Mar 23,-5.06,Card ending 8493, ,CREDIT CARD PURCHASE,Madison Cornerstore Yarraville,Food & drink,Madison Coffee & Corner Store\n",
    "16 Mar 23,-5.06,Card ending 8493, ,CREDIT CARD PURCHASE,Madison Cornerstore Yarraville,Food & drink,Madison Coffee & Corner Store\n",
    "15 Mar 23,-5.06,Card ending 8493, ,CREDIT CARD PURCHASE,Madison Cornerstore Yarraville,Food & drink,Madison Coffee & Corner Store\n",
    "13 Mar 23,-5.56,Card ending 8493, ,CREDIT CARD PURCHASE,Madison Cornerstore Yarraville,Food & drink,Madison Coffee & Corner Store\n",
    "13 Mar 23,-5.56,Card ending 8493, ,CREDIT CARD PURCHASE,Madison Cornerstore Yarraville,Food & drink,Madison Coffee & Corner Store\n",
    "13 Mar 23,-5.06,Card ending 8493, ,CREDIT CARD PURCHASE,Madison Cornerstore Yarraville,Food & drink,Madison Coffee & Corner Store\n",
    "10 Mar 23,-5.06,Card ending 8493, ,CREDIT CARD PURCHASE,Madison Cornerstore Yarraville,Food & drink,Madison Coffee & Corner Store\n",
    "09 Mar 23,-5.06,Card ending 8493, ,CREDIT CARD PURCHASE,Madison Cornerstore Yarraville,Food & drink,Madison Coffee & Corner Store\n",
    "08 Mar 23,-5.06,Card ending 8493, ,CREDIT CARD PURCHASE,Madison Cornerstore Yarraville,Food & drink,Madison Coffee & Corner Store\n",
    "07 Mar 23,-5.06,Card ending 8493, ,CREDIT CARD PURCHASE,Madison Cornerstore Yarraville,Food & drink,Madison Coffee & Corner Store\n",
    "07 Mar 23,-5.06,Card ending 8493, ,CREDIT CARD PURCHASE,Madison Cornerstore Yarraville,Food & drink,Madison Coffee & Corner Store\n",
    "06 Mar 23,-5.06,Card ending 8493, ,CREDIT CARD PURCHASE,Madison Cornerstore Yarraville,Food & drink,Madison Coffee & Corner Store\n",
    "03 Mar 23,-5.06,Card ending 8493, ,CREDIT CARD PURCHASE,Madison Cornerstore Yarraville,Food & drink,Madison Coffee & Corner Store\n",
    "02 Mar 23,-5.06,Card ending 8493, ,CREDIT CARD PURCHASE,Madison Cornerstore Yarraville,Food & drink,Madison Coffee & Corner Store\n",
    "01 Mar 23,-5.06,Card ending 8493, ,CREDIT CARD PURCHASE,Madison Cornerstore Yarraville,Food & drink,Madison Coffee & Corner Store\n",
    "28 Feb 23,-5.06,Card ending 8493, ,CREDIT CARD PURCHASE,Madison Cornerstore Yarraville,Food & drink,Madison Coffee & Corner Store\n",
    "28 Feb 23,-5.06,Card ending 8493, ,CREDIT CARD PURCHASE,Madison Cornerstore Yarraville,Food & drink,Madison Coffee & Corner Store\n",
    "27 Feb 23,-5.56,Card ending 8493, ,CREDIT CARD PURCHASE,Madison Cornerstore Yarraville,Food & drink,Madison Coffee & Corner Store\n",
    "27 Feb 23,-5.06,Card ending 8493, ,CREDIT CARD PURCHASE,Madison Cornerstore Yarraville,Food & drink,Madison Coffee & Corner Store\n",
    "27 Feb 23,-5.56,Card ending 8493, ,CREDIT CARD PURCHASE,Madison Cornerstore Yarraville,Food & drink,Madison Coffee & Corner Store\n",
    "24 Feb 23,-5.06,Card ending 8493, ,CREDIT CARD PURCHASE,Madison Cornerstore Yarraville,Food & drink,Madison Coffee & Corner Store\n",
    "23 Feb 23,-5.06,Card ending 8493, ,CREDIT CARD PURCHASE,Madison Cornerstore Yarraville,Food & drink,Madison Coffee & Corner Store\n",
    "22 Feb 23,-5.06,Card ending 8493, ,CREDIT CARD PURCHASE,Madison Cornerstore Yarraville,Food & drink,Madison Coffee & Corner Store\n",
    "21 Feb 23,-5.06,Card ending 8493, ,CREDIT CARD PURCHASE,Madison Cornerstore Yarraville,Food & drink,Madison Coffee & Corner Store\n",
    "20 Feb 23,-5.56,Card ending 8493, ,CREDIT CARD PURCHASE,Madison Cornerstore Yarraville,Food & drink,Madison Coffee & Corner Store\n",
    "20 Feb 23,-4.55,Card ending 8493, ,CREDIT CARD PURCHASE,Madison Cornerstore Yarraville,Food & drink,Madison Coffee & Corner Store\n",
    "20 Feb 23,-5.06,Card ending 8493, ,CREDIT CARD PURCHASE,Madison Cornerstore Yarraville,Food & drink,Madison Coffee & Corner Store\n",
    "17 Feb 23,-5.06,Card ending 8493, ,CREDIT CARD PURCHASE,Madison Cornerstore Yarraville,Food & drink,Madison Coffee & Corner Store\n",
    "16 Feb 23,-5.06,Card ending 8493, ,CREDIT CARD PURCHASE,Madison Cornerstore Yarraville,Food & drink,Madison Coffee & Corner Store\n",
    "16 Feb 23,-4.55,Card ending 8493, ,CREDIT CARD PURCHASE,Madison Cornerstore Yarraville,Food & drink,Madison Coffee & Corner Store\n",
    "15 Feb 23,-5.06,Card ending 8493, ,CREDIT CARD PURCHASE,Madison Cornerstore Yarraville,Food & drink,Madison Coffee & Corner Store\n",
    "14 Feb 23,-4.55,Card ending 8493, ,CREDIT CARD PURCHASE,Madison Cornerstore Yarraville,Food & drink,Madison Coffee & Corner Store\n",
    "13 Feb 23,-5.06,Card ending 8493, ,CREDIT CARD PURCHASE,Madison Cornerstore Yarraville,Food & drink,Madison Coffee & Corner Store\n",
    "13 Feb 23,-5.01,Card ending 8493, ,CREDIT CARD PURCHASE,Madison Cornerstore Yarraville,Food & drink,Madison Coffee & Corner Store\n",
    "13 Feb 23,-5.01,Card ending 8493, ,CREDIT CARD PURCHASE,Madison Cornerstore Yarraville,Food & drink,Madison Coffee & Corner Store\n",
    "10 Feb 23,-5.06,Card ending 8493, ,CREDIT CARD PURCHASE,Madison Cornerstore Yarraville,Food & drink,Madison Coffee & Corner Store\n",
    "09 Feb 23,-5.06,Card ending 8493, ,CREDIT CARD PURCHASE,Madison Cornerstore Yarraville,Food & drink,Madison Coffee & Corner Store\n",
    "08 Feb 23,-5.06,Card ending 8493, ,CREDIT CARD PURCHASE,Madison Cornerstore Yarraville,Food & drink,Madison Coffee & Corner Store\n",
    "07 Feb 23,-5.06,Card ending 8493, ,CREDIT CARD PURCHASE,Madison Cornerstore Yarraville,Food & drink,Madison Coffee & Corner Store\n",
    "06 Feb 23,-5.01,Card ending 8493, ,CREDIT CARD PURCHASE,Madison Cornerstore Yarraville,Food & drink,Madison Coffee & Corner Store\n",
    "06 Feb 23,-5.06,Card ending 8493, ,CREDIT CARD PURCHASE,Madison Cornerstore Yarraville,Food & drink,Madison Coffee & Corner Store\n",
    "06 Feb 23,-5.56,Card ending 8493, ,CREDIT CARD PURCHASE,Madison Cornerstore Yarraville,Food & drink,Madison Coffee & Corner Store\n",
    "31 Jan 23,-5.06,Card ending 8493, ,CREDIT CARD PURCHASE,Madison Cornerstore Yarraville,Food & drink,Madison Coffee & Corner Store\n",
    "30 Jan 23,-5.56,Card ending 8493, ,CREDIT CARD PURCHASE,Madison Cornerstore Yarraville,Food & drink,Madison Coffee & Corner Store\n",
    "30 Jan 23,-26.70,Card ending 8493, ,CREDIT CARD PURCHASE,Madison Cornerstore Yarraville,Food & drink,Madison Coffee & Corner Store\n",
    "27 Jan 23,-5.81,Card ending 8493, ,CREDIT CARD PURCHASE,Madison Cornerstore Yarraville,Food & drink,Madison Coffee & Corner Store\n",
    "27 Jan 23,-11.40,Card ending 8493, ,CREDIT CARD PURCHASE,Madison Cornerstore Yarraville,Food & drink,Madison Coffee & Corner Store\n",
    "23 Jan 23,-5.06,Card ending 8493, ,CREDIT CARD PURCHASE,Madison Cornerstore Yarraville,Food & drink,Madison Coffee & Corner Store\n",
    "23 Jan 23,-16.24,Card ending 8493, ,CREDIT CARD PURCHASE,Madison Cornerstore Yarraville,Food & drink,Madison Coffee & Corner Store\n",
    "20 Jan 23,-5.06,Card ending 8493, ,CREDIT CARD PURCHASE,Madison Cornerstore Yarraville,Food & drink,Madison Coffee & Corner Store\n",
    "17 Jan 23,-5.06,Card ending 8493, ,CREDIT CARD PURCHASE,Madison Cornerstore Yarraville,Food & drink,Madison Coffee & Corner Store\n",
    "16 Jan 23,-10.62,Card ending 8493, ,CREDIT CARD PURCHASE,Madison Cornerstore Yarraville,Food & drink,Madison Coffee & Corner Store\n",
    "16 Jan 23,-5.56,Card ending 8493, ,CREDIT CARD PURCHASE,Madison Cornerstore Yarraville,Food & drink,Madison Coffee & Corner Store\n",
    "16 Jan 23,-5.01,Card ending 8493, ,CREDIT CARD PURCHASE,Madison Cornerstore Yarraville,Food & drink,Madison Coffee & Corner Store\n",
    "28 Dec 22,-5.56,Card ending 8493, ,CREDIT CARD PURCHASE,Madison Cornerstore Yarraville,Food & drink,Madison Coffee & Corner Store\n",
    "28 Dec 22,-5.06,Card ending 8493, ,CREDIT CARD PURCHASE,Madison Cornerstore Yarraville,Food & drink,Madison Coffee & Corner Store\n",
    "23 Dec 22,-5.06,Card ending 8493, ,CREDIT CARD PURCHASE,Madison Cornerstore Yarraville,Food & drink,Madison Coffee & Corner Store\n",
    "22 Dec 22,-5.06,Card ending 8493, ,CREDIT CARD PURCHASE,Madison Cornerstore Yarraville,Food & drink,Madison Coffee & Corner Store\n",
    "21 Dec 22,-5.06,Card ending 8493, ,CREDIT CARD PURCHASE,Madison Cornerstore Yarraville,Food & drink,Madison Coffee & Corner Store\n",
    "20 Dec 22,-5.06,Card ending 8493, ,CREDIT CARD PURCHASE,Madison Cornerstore Yarraville,Food & drink,Madison Coffee & Corner Store\n",
    "19 Dec 22,-5.56,Card ending 8493, ,CREDIT CARD PURCHASE,Madison Cornerstore Yarraville,Food & drink,Madison Coffee & Corner Store\n",
    "19 Dec 22,-5.06,Card ending 8493, ,CREDIT CARD PURCHASE,Madison Cornerstore Yarraville,Food & drink,Madison Coffee & Corner Store\n",
    "19 Dec 22,-5.01,Card ending 8493, ,CREDIT CARD PURCHASE,Madison Cornerstore Yarraville,Food & drink,Madison Coffee & Corner Store\n",
    "19 Dec 22,-4.55,Card ending 8493, ,CREDIT CARD PURCHASE,Madison Cornerstore Yarraville,Food & drink,Madison Coffee & Corner Store\n",
    "16 Dec 22,-5.06,Card ending 8493, ,CREDIT CARD PURCHASE,Madison Cornerstore Yarraville,Food & drink,Madison Coffee & Corner Store\n",
    "16 Dec 22,-5.06,Card ending 8493, ,CREDIT CARD PURCHASE,Madison Cornerstore Yarraville,Food & drink,Madison Coffee & Corner Store\n",
    "15 Dec 22,-5.06,Card ending 8493, ,CREDIT CARD PURCHASE,Madison Cornerstore Yarraville,Food & drink,Madison Coffee & Corner Store\n",
    "14 Dec 22,-5.06,Card ending 8493, ,CREDIT CARD PURCHASE,Madison Cornerstore Yarraville,Food & drink,Madison Coffee & Corner Store\n",
    "13 Dec 22,-5.06,Card ending 8493, ,CREDIT CARD PURCHASE,Madison Cornerstore Yarraville,Food & drink,Madison Coffee & Corner Store\n",
    "13 Dec 22,-5.06,Card ending 8493, ,CREDIT CARD PURCHASE,Madison Cornerstore Yarraville,Food & drink,Madison Coffee & Corner Store\n",
    "12 Dec 22,-5.56,Card ending 8493, ,CREDIT CARD PURCHASE,Madison Cornerstore Yarraville,Food & drink,Madison Coffee & Corner Store\n",
    "12 Dec 22,-5.56,Card ending 8493, ,CREDIT CARD PURCHASE,Madison Cornerstore Yarraville,Food & drink,Madison Coffee & Corner Store\n",
    "12 Dec 22,-5.06,Card ending 8493, ,CREDIT CARD PURCHASE,Madison Cornerstore Yarraville,Food & drink,Madison Coffee & Corner Store\n",
    "12 Dec 22,-5.01,Card ending 8493, ,CREDIT CARD PURCHASE,Madison Cornerstore Yarraville,Food & drink,Madison Coffee & Corner Store\n",
    "09 Dec 22,-5.06,Card ending 8493, ,CREDIT CARD PURCHASE,Madison Cornerstore Yarraville,Food & drink,Madison Coffee & Corner Store\n",
    "09 Dec 22,-4.55,Card ending 8493, ,CREDIT CARD PURCHASE,Madison Cornerstore Yarraville,Food & drink,Madison Coffee & Corner Store\n",
    "08 Dec 22,-5.06,Card ending 8493, ,CREDIT CARD PURCHASE,Madison Cornerstore Yarraville,Food & drink,Madison Coffee & Corner Store\n",
    "07 Dec 22,-5.06,Card ending 8493, ,CREDIT CARD PURCHASE,Madison Cornerstore Yarraville,Food & drink,Madison Coffee & Corner Store\n",
    "06 Dec 22,-5.06,Card ending 8493, ,CREDIT CARD PURCHASE,Madison Cornerstore Yarraville,Food & drink,Madison Coffee & Corner Store\n",
    "05 Dec 22,-14.26,Card ending 8493, ,CREDIT CARD PURCHASE,Madison Cornerstore Yarraville,Food & drink,Madison Coffee & Corner Store\n",
    "05 Dec 22,-10.11,Card ending 8493, ,CREDIT CARD PURCHASE,Madison Cornerstore Yarraville,Food & drink,Madison Coffee & Corner Store\n",
    "05 Dec 22,-5.56,Card ending 8493, ,CREDIT CARD PURCHASE,Madison Cornerstore Yarraville,Food & drink,Madison Coffee & Corner Store\n",
    "02 Dec 22,-4.55,Card ending 8493, ,CREDIT CARD PURCHASE,Madison Cornerstore Yarraville,Food & drink,Madison Coffee & Corner Store\n",
    "01 Dec 22,-5.06,Card ending 8493, ,CREDIT CARD PURCHASE,Madison Cornerstore Yarraville,Food & drink,Madison Coffee & Corner Store\n",
    "01 Dec 22,-4.55,Card ending 8493, ,CREDIT CARD PURCHASE,Madison Cornerstore Yarraville,Food & drink,Madison Coffee & Corner Store\n",
    "30 Nov 22,-4.55,Card ending 8493, ,CREDIT CARD PURCHASE,Madison Cornerstore Yarraville,Food & drink,Madison Coffee & Corner Store\n",
    "29 Nov 22,-5.06,Card ending 8493, ,CREDIT CARD PURCHASE,Madison Cornerstore Yarraville,Food & drink,Madison Coffee & Corner Store\n",
    "29 Nov 22,-4.55,Card ending 8493, ,CREDIT CARD PURCHASE,Madison Cornerstore Yarraville,Food & drink,Madison Coffee & Corner Store\n",
    "28 Nov 22,-5.56,Card ending 8493, ,CREDIT CARD PURCHASE,Madison Cornerstore Yarraville,Food & drink,Madison Coffee & Corner Store\n",
    "28 Nov 22,-5.06,Card ending 8493, ,CREDIT CARD PURCHASE,Madison Cornerstore Yarraville,Food & drink,Madison Coffee & Corner Store\n",
    "28 Nov 22,-5.06,Card ending 8493, ,CREDIT CARD PURCHASE,Madison Cornerstore Yarraville,Food & drink,Madison Coffee & Corner Store\n",
    "25 Nov 22,-5.06,Card ending 8493, ,CREDIT CARD PURCHASE,Madison Cornerstore Yarraville,Food & drink,Madison Coffee & Corner Store\n",
    "25 Nov 22,-5.06,Card ending 8493, ,CREDIT CARD PURCHASE,Madison Cornerstore Yarraville,Food & drink,Madison Coffee & Corner Store\n",
    "24 Nov 22,-9.61,Card ending 8493, ,CREDIT CARD PURCHASE,Madison Cornerstore Yarraville,Food & drink,Madison Coffee & Corner Store\n",
    "24 Nov 22,-5.06,Card ending 8493, ,CREDIT CARD PURCHASE,Madison Cornerstore Yarraville,Food & drink,Madison Coffee & Corner Store\n",
    "23 Nov 22,-5.06,Card ending 8493, ,CREDIT CARD PURCHASE,Madison Cornerstore Yarraville,Food & drink,Madison Coffee & Corner Store\n",
    "22 Nov 22,-5.06,Card ending 8493, ,CREDIT CARD PURCHASE,Madison Cornerstore Yarraville,Food & drink,Madison Coffee & Corner Store\n",
    "21 Nov 22,-8.34,Card ending 8493, ,CREDIT CARD PURCHASE,Madison Cornerstore Yarraville,Food & drink,Madison Coffee & Corner Store\n",
    "21 Nov 22,-5.56,Card ending 8493, ,CREDIT CARD PURCHASE,Madison Cornerstore Yarraville,Food & drink,Madison Coffee & Corner Store\n",
    "21 Nov 22,-5.56,Card ending 8493, ,CREDIT CARD PURCHASE,Madison Cornerstore Yarraville,Food & drink,Madison Coffee & Corner Store\n",
    "21 Nov 22,-5.06,Card ending 8493, ,CREDIT CARD PURCHASE,Madison Cornerstore Yarraville,Food & drink,Madison Coffee & Corner Store\n",
    "21 Nov 22,-4.55,Card ending 8493, ,CREDIT CARD PURCHASE,Madison Cornerstore Yarraville,Food & drink,Madison Coffee & Corner Store\n",
    "18 Nov 22,-5.06,Card ending 8493, ,CREDIT CARD PURCHASE,Madison Cornerstore Yarraville,Food & drink,Madison Coffee & Corner Store\n",
    "17 Nov 22,-5.06,Card ending 8493, ,CREDIT CARD PURCHASE,Madison Cornerstore Yarraville,Food & drink,Madison Coffee & Corner Store\n",
    "17 Nov 22,-4.55,Card ending 8493, ,CREDIT CARD PURCHASE,Madison Cornerstore Yarraville,Food & drink,Madison Coffee & Corner Store\n",
    "16 Nov 22,-5.06,Card ending 8493, ,CREDIT CARD PURCHASE,Madison Cornerstore Yarraville,Food & drink,Madison Coffee & Corner Store\n",
    "15 Nov 22,-5.06,Card ending 8493, ,CREDIT CARD PURCHASE,Madison Cornerstore Yarraville,Food & drink,Madison Coffee & Corner Store\n",
    "14 Nov 22,-16.68,Card ending 8493, ,CREDIT CARD PURCHASE,Madison Cornerstore Yarraville,Food & drink,Madison Coffee & Corner Store\n",
    "14 Nov 22,-5.56,Card ending 8493, ,CREDIT CARD PURCHASE,Madison Cornerstore Yarraville,Food & drink,Madison Coffee & Corner Store\n",
    "14 Nov 22,-5.06,Card ending 8493, ,CREDIT CARD PURCHASE,Madison Cornerstore Yarraville,Food & drink,Madison Coffee & Corner Store\n",
    "11 Nov 22,-5.06,Card ending 8493, ,CREDIT CARD PURCHASE,Madison Cornerstore Yarraville,Food & drink,Madison Coffee & Corner Store\n",
    "10 Nov 22,-4.55,Card ending 8493, ,CREDIT CARD PURCHASE,Madison Cornerstore Yarraville,Food & drink,Madison Coffee & Corner Store\n",
    "09 Nov 22,-4.55,Card ending 8493, ,CREDIT CARD PURCHASE,Madison Cornerstore Yarraville,Food & drink,Madison Coffee & Corner Store\n",
    "08 Nov 22,-5.06,Card ending 8493, ,CREDIT CARD PURCHASE,Madison Cornerstore Yarraville,Food & drink,Madison Coffee & Corner Store\n",
    "07 Nov 22,-5.56,Card ending 8493, ,CREDIT CARD PURCHASE,Madison Cornerstore Yarraville,Food & drink,Madison Coffee & Corner Store\n",
    "07 Nov 22,-4.55,Card ending 8493, ,CREDIT CARD PURCHASE,Madison Cornerstore Yarraville,Food & drink,Madison Coffee & Corner Store\n",
    "07 Nov 22,-4.55,Card ending 8493, ,CREDIT CARD PURCHASE,Madison Cornerstore Yarraville,Food & drink,Madison Coffee & Corner Store\n",
    "04 Nov 22,-5.06,Card ending 8493, ,CREDIT CARD PURCHASE,Madison Cornerstore Yarraville,Food & drink,Madison Coffee & Corner Store\n",
    "03 Nov 22,-5.06,Card ending 8493, ,CREDIT CARD PURCHASE,Madison Cornerstore Yarraville,Food & drink,Madison Coffee & Corner Store\n",
    "03 Nov 22,-5.06,Card ending 8493, ,CREDIT CARD PURCHASE,Madison Cornerstore Yarraville,Food & drink,Madison Coffee & Corner Store\n",
    "01 Nov 22,-9.81,Card ending 8493, ,CREDIT CARD PURCHASE,Madison Cornerstore Yarraville,Food & drink,Madison Coffee & Corner Store\n",
    "01 Nov 22,-5.06,Card ending 8493, ,CREDIT CARD PURCHASE,Madison Cornerstore Yarraville,Food & drink,Madison Coffee & Corner Store\n",
    "31 Oct 22,-5.56,Card ending 8493, ,CREDIT CARD PURCHASE,Madison Cornerstore Yarraville,Food & drink,Madison Coffee & Corner Store\n",
    "31 Oct 22,-5.06,Card ending 8493, ,CREDIT CARD PURCHASE,Madison Cornerstore Yarraville,Food & drink,Madison Coffee & Corner Store\n",
    "31 Oct 22,-5.00,Card ending 8493, ,CREDIT CARD PURCHASE,Madison Cornerstore Yarraville,Food & drink,Madison Coffee & Corner Store\n",
    "28 Oct 22,-5.06,Card ending 8493, ,CREDIT CARD PURCHASE,Madison Cornerstore Yarraville,Food & drink,Madison Coffee & Corner Store\n",
    "27 Oct 22,-5.06,Card ending 8493, ,CREDIT CARD PURCHASE,Madison Cornerstore Yarraville,Food & drink,Madison Coffee & Corner Store\n",
    "27 Oct 22,-5.06,Card ending 8493, ,CREDIT CARD PURCHASE,Madison Cornerstore Yarraville,Food & drink,Madison Coffee & Corner Store\n",
    "26 Oct 22,-5.06,Card ending 8493, ,CREDIT CARD PURCHASE,Madison Cornerstore Yarraville,Food & drink,Madison Coffee & Corner Store\n",
    "26 Oct 22,-5.06,Card ending 8493, ,CREDIT CARD PURCHASE,Madison Cornerstore Yarraville,Food & drink,Madison Coffee & Corner Store\n",
    "25 Oct 22,-5.06,Card ending 8493, ,CREDIT CARD PURCHASE,Madison Cornerstore Yarraville,Food & drink,Madison Coffee & Corner Store\n",
    "25 Oct 22,-5.06,Card ending 8493, ,CREDIT CARD PURCHASE,Madison Cornerstore Yarraville,Food & drink,Madison Coffee & Corner Store\n",
    "24 Oct 22,-5.56,Card ending 8493, ,CREDIT CARD PURCHASE,Madison Cornerstore Yarraville,Food & drink,Madison Coffee & Corner Store\n",
    "24 Oct 22,-5.56,Card ending 8493, ,CREDIT CARD PURCHASE,Madison Cornerstore Yarraville,Food & drink,Madison Coffee & Corner Store\n",
    "24 Oct 22,-5.06,Card ending 8493, ,CREDIT CARD PURCHASE,Madison Cornerstore Yarraville,Food & drink,Madison Coffee & Corner Store\n",
    "24 Oct 22,-4.55,Card ending 8493, ,CREDIT CARD PURCHASE,Madison Cornerstore Yarraville,Food & drink,Madison Coffee & Corner Store\n",
    "21 Oct 22,-5.06,Card ending 8493, ,CREDIT CARD PURCHASE,Madison Cornerstore Yarraville,Food & drink,Madison Coffee & Corner Store\n",
    "21 Oct 22,-4.55,Card ending 8493, ,CREDIT CARD PURCHASE,Madison Cornerstore Yarraville,Food & drink,Madison Coffee & Corner Store\n",
    "20 Oct 22,-5.06,Card ending 8493, ,CREDIT CARD PURCHASE,Madison Cornerstore Yarraville,Food & drink,Madison Coffee & Corner Store\n",
    "19 Oct 22,-4.55,Card ending 8493, ,CREDIT CARD PURCHASE,Madison Cornerstore Yarraville,Food & drink,Madison Coffee & Corner Store\n",
    "19 Oct 22,-4.55,Card ending 8493, ,CREDIT CARD PURCHASE,Madison Cornerstore Yarraville,Food & drink,Madison Coffee & Corner Store\n",
    "18 Oct 22,-5.06,Card ending 8493, ,CREDIT CARD PURCHASE,Madison Cornerstore Yarraville,Food & drink,Madison Coffee & Corner Store\n",
    "17 Oct 22,-5.56,Card ending 8493, ,CREDIT CARD PURCHASE,Madison Cornerstore Yarraville,Food & drink,Madison Coffee & Corner Store\n",
    "17 Oct 22,-5.56,Card ending 8493, ,CREDIT CARD PURCHASE,Madison Cornerstore Yarraville,Food & drink,Madison Coffee & Corner Store\n",
    "17 Oct 22,-5.06,Card ending 8493, ,CREDIT CARD PURCHASE,Madison Cornerstore Yarraville,Food & drink,Madison Coffee & Corner Store\n",
    "17 Oct 22,-4.55,Card ending 8493, ,CREDIT CARD PURCHASE,Madison Cornerstore Yarraville,Food & drink,Madison Coffee & Corner Store\n",
    "14 Oct 22,-5.06,Card ending 8493, ,CREDIT CARD PURCHASE,Madison Cornerstore Yarraville,Food & drink,Madison Coffee & Corner Store\n",
    "13 Oct 22,-5.06,Card ending 8493, ,CREDIT CARD PURCHASE,Madison Cornerstore Yarraville,Food & drink,Madison Coffee & Corner Store\n",
    "13 Oct 22,-4.55,Card ending 8493, ,CREDIT CARD PURCHASE,Madison Cornerstore Yarraville,Food & drink,Madison Coffee & Corner Store\n",
    "11 Oct 22,-4.55,Card ending 8493, ,CREDIT CARD PURCHASE,Madison Cornerstore Yarraville,Food & drink,Madison Coffee & Corner Store\n",
    "10 Oct 22,-5.56,Card ending 8493, ,CREDIT CARD PURCHASE,Madison Cornerstore Yarraville,Food & drink,Madison Coffee & Corner Store\n",
    "10 Oct 22,-5.56,Card ending 8493, ,CREDIT CARD PURCHASE,Madison Cornerstore Yarraville,Food & drink,Madison Coffee & Corner Store\n",
    "10 Oct 22,-5.06,Card ending 8493, ,CREDIT CARD PURCHASE,Madison Cornerstore Yarraville,Food & drink,Madison Coffee & Corner Store\n",
    "10 Oct 22,-4.55,Card ending 8493, ,CREDIT CARD PURCHASE,Madison Cornerstore Yarraville,Food & drink,Madison Coffee & Corner Store\n",
    "07 Oct 22,-4.55,Card ending 8493, ,CREDIT CARD PURCHASE,Madison Cornerstore Yarraville,Food & drink,Madison Coffee & Corner Store\n",
    "06 Oct 22,-5.06,Card ending 8493, ,CREDIT CARD PURCHASE,Madison Cornerstore Yarraville,Food & drink,Madison Coffee & Corner Store\n",
    "05 Oct 22,-5.06,Card ending 8493, ,CREDIT CARD PURCHASE,Madison Cornerstore Yarraville,Food & drink,Madison Coffee & Corner Store\n",
    "05 Oct 22,-4.55,Card ending 8493, ,CREDIT CARD PURCHASE,Madison Cornerstore Yarraville,Food & drink,Madison Coffee & Corner Store\n",
    "04 Oct 22,-4.55,Card ending 8493, ,CREDIT CARD PURCHASE,Madison Cornerstore Yarraville,Food & drink,Madison Coffee & Corner Store\n",
    "03 Oct 22,-5.56,Card ending 8493, ,CREDIT CARD PURCHASE,Madison Cornerstore Yarraville,Food & drink,Madison Coffee & Corner Store\n",
    "03 Oct 22,-5.06,Card ending 8493, ,CREDIT CARD PURCHASE,Madison Cornerstore Yarraville,Food & drink,Madison Coffee & Corner Store\n",
    "03 Oct 22,-5.00,Card ending 8493, ,CREDIT CARD PURCHASE,Madison Cornerstore Yarraville,Food & drink,Madison Coffee & Corner Store\n",
    "03 Oct 22,-4.55,Card ending 8493, ,CREDIT CARD PURCHASE,Madison Cornerstore Yarraville,Food & drink,Madison Coffee & Corner Store\n",
    "30 Sep 22,-4.55,Card ending 8493, ,CREDIT CARD PURCHASE,Madison Cornerstore Yarraville,Food & drink,Madison Coffee & Corner Store\n",
    "29 Sep 22,-5.06,Card ending 8493, ,CREDIT CARD PURCHASE,Madison Cornerstore Yarraville,Food & drink,Madison Coffee & Corner Store\n",
    "28 Sep 22,-4.55,Card ending 8493, ,CREDIT CARD PURCHASE,Madison Cornerstore Yarraville,Food & drink,Madison Coffee & Corner Store\n",
    "28 Sep 22,-4.55,Card ending 8493, ,CREDIT CARD PURCHASE,Madison Cornerstore Yarraville,Food & drink,Madison Coffee & Corner Store\n",
    "27 Sep 22,-5.06,Card ending 8493, ,CREDIT CARD PURCHASE,Madison Cornerstore Yarraville,Food & drink,Madison Coffee & Corner Store\n",
    "26 Sep 22,-5.00,Card ending 8493, ,CREDIT CARD PURCHASE,Madison Cornerstore Yarraville,Food & drink,Madison Coffee & Corner Store\n",
    "26 Sep 22,-5.00,Card ending 8493, ,CREDIT CARD PURCHASE,Madison Cornerstore Yarraville,Food & drink,Madison Coffee & Corner Store\n",
    "23 Sep 22,-4.55,Card ending 8493, ,CREDIT CARD PURCHASE,Madison Cornerstore Yarraville,Food & drink,Madison Coffee & Corner Store\n",
    "23 Sep 22,-4.55,Card ending 8493, ,CREDIT CARD PURCHASE,Madison Cornerstore Yarraville,Food & drink,Madison Coffee & Corner Store\n",
    "21 Sep 22,-4.55,Card ending 8493, ,CREDIT CARD PURCHASE,Madison Cornerstore Yarraville,Food & drink,Madison Coffee & Corner Store\n",
    "20 Sep 22,-4.55,Card ending 8493, ,CREDIT CARD PURCHASE,Madison Cornerstore Yarraville,Food & drink,Madison Coffee & Corner Store\n",
    "19 Sep 22,-12.23,Card ending 8493, ,CREDIT CARD PURCHASE,Madison Cornerstore Yarraville,Food & drink,Madison Coffee & Corner Store\n",
    "19 Sep 22,-5.06,Card ending 8493, ,CREDIT CARD PURCHASE,Madison Cornerstore Yarraville,Food & drink,Madison Coffee & Corner Store\n",
    "19 Sep 22,-5.00,Card ending 8493, ,CREDIT CARD PURCHASE,Madison Cornerstore Yarraville,Food & drink,Madison Coffee & Corner Store\n",
    "16 Sep 22,-5.06,Card ending 8493, ,CREDIT CARD PURCHASE,Madison Cornerstore Yarraville,Food & drink,Madison Coffee & Corner Store\n",
    "15 Sep 22,-4.55,Card ending 8493, ,CREDIT CARD PURCHASE,Madison Cornerstore Yarraville,Food & drink,Madison Coffee & Corner Store\n",
    "14 Sep 22,-5.06,Card ending 8493, ,CREDIT CARD PURCHASE,Madison Cornerstore Yarraville,Food & drink,Madison Coffee & Corner Store\n",
    "13 Sep 22,-4.55,Card ending 8493, ,CREDIT CARD PURCHASE,Madison Cornerstore Yarraville,Food & drink,Madison Coffee & Corner Store\n",
    "12 Sep 22,-5.56,Card ending 8493, ,CREDIT CARD PURCHASE,Madison Cornerstore Yarraville,Food & drink,Madison Coffee & Corner Store\n",
    "12 Sep 22,-5.00,Card ending 8493, ,CREDIT CARD PURCHASE,Madison Cornerstore Yarraville,Food & drink,Madison Coffee & Corner Store\n",
    "12 Sep 22,-4.55,Card ending 8493, ,CREDIT CARD PURCHASE,Madison Cornerstore Yarraville,Food & drink,Madison Coffee & Corner Store\n",
    "09 Sep 22,-4.55,Card ending 8493, ,CREDIT CARD PURCHASE,Madison Cornerstore Yarraville,Food & drink,Madison Coffee & Corner Store\n",
    "08 Sep 22,-4.55,Card ending 8493, ,CREDIT CARD PURCHASE,Madison Cornerstore Yarraville,Food & drink,Madison Coffee & Corner Store\n",
    "07 Sep 22,-4.55,Card ending 8493, ,CREDIT CARD PURCHASE,Madison Cornerstore Yarraville,Food & drink,Madison Coffee & Corner Store\n",
    "06 Sep 22,-4.55,Card ending 8493, ,CREDIT CARD PURCHASE,Madison Cornerstore Yarraville,Food & drink,Madison Coffee & Corner Store\n",
    "05 Sep 22,-5.56,Card ending 8493, ,CREDIT CARD PURCHASE,Madison Cornerstore Yarraville,Food & drink,Madison Coffee & Corner Store\n",
    "05 Sep 22,-5.06,Card ending 8493, ,CREDIT CARD PURCHASE,Madison Cornerstore Yarraville,Food & drink,Madison Coffee & Corner Store\n",
    "05 Sep 22,-5.00,Card ending 8493, ,CREDIT CARD PURCHASE,Madison Cornerstore Yarraville,Food & drink,Madison Coffee & Corner Store\n",
    "02 Sep 22,-4.55,Card ending 8493, ,CREDIT CARD PURCHASE,Madison Cornerstore Yarraville,Food & drink,Madison Coffee & Corner Store\n",
    "01 Sep 22,-4.55,Card ending 8493, ,CREDIT CARD PURCHASE,Madison Cornerstore Yarraville,Food & drink,Madison Coffee & Corner Store\n",
    "31 Aug 22,-4.55,Card ending 8493, ,CREDIT CARD PURCHASE,Madison Cornerstore Yarraville,Food & drink,Madison Coffee & Corner Store\n",
    "30 Aug 22,-5.06,Card ending 8493, ,CREDIT CARD PURCHASE,Madison Cornerstore Yarraville,Food & drink,Madison Coffee & Corner Store\n",
    "30 Aug 22,-4.55,Card ending 8493, ,CREDIT CARD PURCHASE,Madison Cornerstore Yarraville,Food & drink,Madison Coffee & Corner Store\n",
    "29 Aug 22,-5.56,Card ending 8493, ,CREDIT CARD PURCHASE,Madison Cornerstore Yarraville,Food & drink,Madison Coffee & Corner Store\n",
    "29 Aug 22,-5.00,Card ending 8493, ,CREDIT CARD PURCHASE,Madison Cornerstore Yarraville,Food & drink,Madison Coffee & Corner Store\n",
    "29 Aug 22,-4.55,Card ending 8493, ,CREDIT CARD PURCHASE,Madison Cornerstore Yarraville,Food & drink,Madison Coffee & Corner Store\n",
    "29 Aug 22,-4.55,Card ending 8493, ,CREDIT CARD PURCHASE,Madison Cornerstore Yarraville,Food & drink,Madison Coffee & Corner Store\n",
    "23 Aug 22,-4.55,Card ending 8493, ,CREDIT CARD PURCHASE,Madison Cornerstore Yarraville,Food & drink,Madison Coffee & Corner Store\n",
    "22 Aug 22,-5.06,Card ending 8493, ,CREDIT CARD PURCHASE,Madison Cornerstore Yarraville,Food & drink,Madison Coffee & Corner Store\n",
    "22 Aug 22,-5.00,Card ending 8493, ,CREDIT CARD PURCHASE,Madison Cornerstore Yarraville,Food & drink,Madison Coffee & Corner Store\n",
    "19 Aug 22,-5.06,Card ending 8493, ,CREDIT CARD PURCHASE,Madison Cornerstore Yarraville,Food & drink,Madison Coffee & Corner Store\n",
    "18 Aug 22,-5.06,Card ending 8493, ,CREDIT CARD PURCHASE,Madison Cornerstore Yarraville,Food & drink,Madison Coffee & Corner Store\n",
    "17 Aug 22,-5.06,Card ending 8493, ,CREDIT CARD PURCHASE,Madison Cornerstore Yarraville,Food & drink,Madison Coffee & Corner Store\n",
    "16 Aug 22,-5.06,Card ending 8493, ,CREDIT CARD PURCHASE,Madison Cornerstore Yarraville,Food & drink,Madison Coffee & Corner Store\n",
    "15 Aug 22,-5.56,Card ending 8493, ,CREDIT CARD PURCHASE,Madison Cornerstore Yarraville,Food & drink,Madison Coffee & Corner Store\n",
    "15 Aug 22,-5.06,Card ending 8493, ,CREDIT CARD PURCHASE,Madison Cornerstore Yarraville,Food & drink,Madison Coffee & Corner Store\n",
    "15 Aug 22,-5.00,Card ending 8493, ,CREDIT CARD PURCHASE,Madison Cornerstore Yarraville,Food & drink,Madison Coffee & Corner Store\n",
    "15 Aug 22,-4.55,Card ending 8493, ,CREDIT CARD PURCHASE,Madison Cornerstore Yarraville,Food & drink,Madison Coffee & Corner Store\n",
    "12 Aug 22,-4.55,Card ending 8493, ,CREDIT CARD PURCHASE,Madison Cornerstore Yarraville,Food & drink,Madison Coffee & Corner Store\n",
    "11 Aug 22,-4.55,Card ending 8493, ,CREDIT CARD PURCHASE,Madison Cornerstore Yarraville,Food & drink,Madison Coffee & Corner Store\n",
    "10 Aug 22,-4.55,Card ending 8493, ,CREDIT CARD PURCHASE,Madison Cornerstore Yarraville,Food & drink,Madison Coffee & Corner Store\n",
    "10 Aug 22,-4.55,Card ending 8493, ,CREDIT CARD PURCHASE,Madison Cornerstore Yarraville,Food & drink,Madison Coffee & Corner Store\n",
    "09 Aug 22,-4.55,Card ending 8493, ,CREDIT CARD PURCHASE,Madison Cornerstore Yarraville,Food & drink,Madison Coffee & Corner Store\n",
    "08 Aug 22,-5.06,Card ending 8493, ,CREDIT CARD PURCHASE,Madison Cornerstore Yarraville,Food & drink,Madison Coffee & Corner Store\n",
    "08 Aug 22,-5.06,Card ending 8493, ,CREDIT CARD PURCHASE,Madison Cornerstore Yarraville,Food & drink,Madison Coffee & Corner Store\n",
    "05 Aug 22,-4.55,Card ending 8493, ,CREDIT CARD PURCHASE,Madison Cornerstore Yarraville,Food & drink,Madison Coffee & Corner Store\n",
    "04 Aug 22,-4.55,Card ending 8493, ,CREDIT CARD PURCHASE,Madison Cornerstore Yarraville,Food & drink,Madison Coffee & Corner Store\n",
    "03 Aug 22,-4.55,Card ending 8493, ,CREDIT CARD PURCHASE,Madison Cornerstore Yarraville,Food & drink,Madison Coffee & Corner Store\n",
    "03 Aug 22,-4.55,Card ending 8493, ,CREDIT CARD PURCHASE,Madison Cornerstore Yarraville,Food & drink,Madison Coffee & Corner Store\n",
    "02 Aug 22,-4.55,Card ending 8493, ,CREDIT CARD PURCHASE,Madison Cornerstore Yarraville,Food & drink,Madison Coffee & Corner Store\n",
    "01 Aug 22,-5.56,Card ending 8493, ,CREDIT CARD PURCHASE,Madison Cornerstore Yarraville,Food & drink,Madison Coffee & Corner Store\n",
    "01 Aug 22,-5.06,Card ending 8493, ,CREDIT CARD PURCHASE,Madison Cornerstore Yarraville,Food & drink,Madison Coffee & Corner Store\n",
    "01 Aug 22,-4.55,Card ending 8493, ,CREDIT CARD PURCHASE,Madison Cornerstore Yarraville,Food & drink,Madison Coffee & Corner Store\n",
    "29 Jul 22,-4.55,Card ending 8493, ,CREDIT CARD PURCHASE,Madison Cornerstore Yarraville,Food & drink,Madison Coffee & Corner Store\n",
    "27 Jul 22,-4.55,Card ending 8493, ,CREDIT CARD PURCHASE,Madison Cornerstore Yarraville,Food & drink,Madison Coffee & Corner Store\n",
    "26 Jul 22,-4.55,Card ending 8493, ,CREDIT CARD PURCHASE,Madison Cornerstore Yarraville,Food & drink,Madison Coffee & Corner Store\n",
    "25 Jul 22,-5.00,Card ending 8493, ,CREDIT CARD PURCHASE,Madison Cornerstore Yarraville,Food & drink,Madison Coffee & Corner Store\n",
    "25 Jul 22,-5.00,Card ending 8493, ,CREDIT CARD PURCHASE,Madison Cornerstore Yarraville,Food & drink,Madison Coffee & Corner Store\n",
    "25 Jul 22,-4.55,Card ending 8493, ,CREDIT CARD PURCHASE,Madison Cornerstore Yarraville,Food & drink,Madison Coffee & Corner Store\n",
    "21 Jul 22,-4.55,Card ending 8493, ,CREDIT CARD PURCHASE,Madison Cornerstore Yarraville,Food & drink,Madison Coffee & Corner Store\n",
    "21 Jul 22,-4.55,Card ending 8493, ,CREDIT CARD PURCHASE,Madison Cornerstore Yarraville,Food & drink,Madison Coffee & Corner Store\n",
    "20 Jul 22,-4.55,Card ending 8493, ,CREDIT CARD PURCHASE,Madison Cornerstore Yarraville,Food & drink,Madison Coffee & Corner Store\n",
    "19 Jul 22,-4.55,Card ending 8493, ,CREDIT CARD PURCHASE,Madison Cornerstore Yarraville,Food & drink,Madison Coffee & Corner Store\n",
    "18 Jul 22,-5.00,Card ending 8493, ,CREDIT CARD PURCHASE,Madison Cornerstore Yarraville,Food & drink,Madison Coffee & Corner Store\n",
    "18 Jul 22,-4.55,Card ending 8493, ,CREDIT CARD PURCHASE,Madison Cornerstore Yarraville,Food & drink,Madison Coffee & Corner Store\n",
    "15 Jul 22,-4.55,Card ending 8493, ,CREDIT CARD PURCHASE,Madison Cornerstore Yarraville,Food & drink,Madison Coffee & Corner Store\n",
    "14 Jul 22,-4.55,Card ending 8493, ,CREDIT CARD PURCHASE,Madison Cornerstore Yarraville,Food & drink,Madison Coffee & Corner Store\n",
    "13 Jul 22,-4.55,Card ending 8493, ,CREDIT CARD PURCHASE,Madison Cornerstore Yarraville,Food & drink,Madison Coffee & Corner Store\n",
    "12 Jul 22,-9.10,Card ending 8493, ,CREDIT CARD PURCHASE,Madison Cornerstore Yarraville,Food & drink,Madison Coffee & Corner Store\n",
    "12 Jul 22,-4.55,Card ending 8493, ,CREDIT CARD PURCHASE,Madison Cornerstore Yarraville,Food & drink,Madison Coffee & Corner Store\n",
    "11 Jul 22,-5.56,Card ending 8493, ,CREDIT CARD PURCHASE,Madison Cornerstore Yarraville,Food & drink,Madison Coffee & Corner Store\n",
    "11 Jul 22,-5.06,Card ending 8493, ,CREDIT CARD PURCHASE,Madison Cornerstore Yarraville,Food & drink,Madison Coffee & Corner Store\n",
    "08 Jul 22,-5.06,Card ending 8493, ,CREDIT CARD PURCHASE,Madison Cornerstore Yarraville,Food & drink,Madison Coffee & Corner Store\n",
    "07 Jul 22,-5.06,Card ending 8493, ,CREDIT CARD PURCHASE,Madison Cornerstore Yarraville,Food & drink,Madison Coffee & Corner Store\n",
    "05 Jul 22,-5.06,Card ending 8493, ,CREDIT CARD PURCHASE,Madison Cornerstore Yarraville,Food & drink,Madison Coffee & Corner Store\n",
    "04 Jul 22,-5.06,Card ending 8493, ,CREDIT CARD PURCHASE,Madison Cornerstore Yarraville,Food & drink,Madison Coffee & Corner Store\n",
    "01 Jul 22,-5.06,Card ending 8493, ,CREDIT CARD PURCHASE,Madison Cornerstore Yarraville,Food & drink,Madison Coffee & Corner Store\n",
    "30 Jun 22,-4.55,Card ending 8493, ,CREDIT CARD PURCHASE,Madison Cornerstore Yarraville,Food & drink,Madison Coffee & Corner Store\n",
    "27 Jun 22,-5.00,Card ending 8493, ,CREDIT CARD PURCHASE,Madison Cornerstore Yarraville,Food & drink,Madison Coffee & Corner Store\n",
    "23 Jun 22,-4.55,Card ending 8493, ,CREDIT CARD PURCHASE,Madison Cornerstore Yarraville,Food & drink,Madison Coffee & Corner Store\n",
    "22 Jun 22,-4.55,Card ending 8493, ,CREDIT CARD PURCHASE,Madison Cornerstore Yarraville,Food & drink,Madison Coffee & Corner Store\n",
    "21 Jun 22,-4.55,Card ending 8493, ,CREDIT CARD PURCHASE,Madison Cornerstore Yarraville,Food & drink,Madison Coffee & Corner Store\n",
    "20 Jun 22,-5.00,Card ending 8493, ,CREDIT CARD PURCHASE,Madison Cornerstore Yarraville,Food & drink,Madison Coffee & Corner Store\n",
    "20 Jun 22,-4.55,Card ending 8493, ,CREDIT CARD PURCHASE,Madison Cornerstore Yarraville,Food & drink,Madison Coffee & Corner Store\n",
    "17 Jun 22,-4.55,Card ending 8493, ,CREDIT CARD PURCHASE,Madison Cornerstore Yarraville,Food & drink,Madison Coffee & Corner Store\n",
    "16 Jun 22,-4.55,Card ending 8493, ,CREDIT CARD PURCHASE,Madison Cornerstore Yarraville,Food & drink,Madison Coffee & Corner Store\n",
    "15 Jun 22,-4.04,Card ending 8493, ,CREDIT CARD PURCHASE,Madison Cornerstore Yarraville,Food & drink,Madison Coffee & Corner Store\n",
    "10 Jun 22,-4.04,Card ending 8493, ,CREDIT CARD PURCHASE,Madison Cornerstore Yarraville,Food & drink,Madison Coffee & Corner Store\n",
    "09 Jun 22,-4.04,Card ending 8493, ,CREDIT CARD PURCHASE,Madison Cornerstore Yarraville,Food & drink,Madison Coffee & Corner Store\n",
    "07 Jun 22,-4.04,Card ending 8493, ,CREDIT CARD PURCHASE,Madison Cornerstore Yarraville,Food & drink,Madison Coffee & Corner Store\n",
    "06 Jun 22,-4.04,Card ending 8493, ,CREDIT CARD PURCHASE,Madison Cornerstore Yarraville,Food & drink,Madison Coffee & Corner Store\n",
    "03 Jun 22,-4.04,Card ending 8493, ,CREDIT CARD PURCHASE,Madison Cornerstore Yarraville,Food & drink,Madison Coffee & Corner Store\n",
    "02 Jun 22,-4.04,Card ending 8493, ,CREDIT CARD PURCHASE,Madison Cornerstore Yarraville,Food & drink,Madison Coffee & Corner Store\n",
    "31 May 22,-4.04,Card ending 8493, ,CREDIT CARD PURCHASE,Madison Cornerstore Yarraville,Food & drink,Madison Coffee & Corner Store\n",
    "30 May 22,-4.65,Card ending 8493, ,CREDIT CARD PURCHASE,Madison Cornerstore Yarraville,Food & drink,Madison Coffee & Corner Store\n",
    "27 May 22,-4.04,Card ending 8493, ,CREDIT CARD PURCHASE,Madison Cornerstore Yarraville,Food & drink,Madison Coffee & Corner Store\n",
    "23 May 22,-4.04,Card ending 8493, ,CREDIT CARD PURCHASE,Madison Cornerstore Yarraville,Food & drink,Madison Coffee & Corner Store\n",
    "23 May 22,-4.04,Card ending 8493, ,CREDIT CARD PURCHASE,Madison Cornerstore Yarraville,Food & drink,Madison Coffee & Corner Store\n",
    "20 May 22,-4.04,Card ending 8493, ,CREDIT CARD PURCHASE,Madison Cornerstore Yarraville,Food & drink,Madison Coffee & Corner Store\n",
    "19 May 22,-4.04,Card ending 8493, ,CREDIT CARD PURCHASE,Madison Cornerstore Yarraville,Food & drink,Madison Coffee & Corner Store\n",
    "18 May 22,-4.04,Card ending 8493, ,CREDIT CARD PURCHASE,Madison Cornerstore Yarraville,Food & drink,Madison Coffee & Corner Store\n",
    "17 May 22,-4.04,Card ending 8493, ,CREDIT CARD PURCHASE,Madison Cornerstore Yarraville,Food & drink,Madison Coffee & Corner Store\n",
    "16 May 22,-4.04,Card ending 8493, ,CREDIT CARD PURCHASE,Madison Cornerstore Yarraville,Food & drink,Madison Coffee & Corner Store\n",
    "09 May 22,-4.04,Card ending 8493, ,CREDIT CARD PURCHASE,Madison Cornerstore Yarraville,Food & drink,Madison Coffee & Corner Store\n",
    "09 May 22,-4.04,Card ending 8493, ,CREDIT CARD PURCHASE,Madison Cornerstore Yarraville,Food & drink,Madison Coffee & Corner Store\n",
    "09 May 22,-4.04,Card ending 8493, ,CREDIT CARD PURCHASE,Madison Cornerstore Yarraville,Food & drink,Madison Coffee & Corner Store\n",
    "06 May 22,-4.04,Card ending 8493, ,CREDIT CARD PURCHASE,Madison Cornerstore Yarraville,Food & drink,Madison Coffee & Corner Store\n",
    "05 May 22,-4.04,Card ending 8493, ,CREDIT CARD PURCHASE,Madison Cornerstore Yarraville,Food & drink,Madison Coffee & Corner Store\n",
    "04 May 22,-4.04,Card ending 8493, ,CREDIT CARD PURCHASE,Madison Cornerstore Yarraville,Food & drink,Madison Coffee & Corner Store\n",
    "03 May 22,-4.04,Card ending 8493, ,CREDIT CARD PURCHASE,Madison Cornerstore Yarraville,Food & drink,Madison Coffee & Corner Store\n",
    "02 May 22,-4.04,Card ending 8493, ,CREDIT CARD PURCHASE,Madison Cornerstore Yarraville,Food & drink,Madison Coffee & Corner Store\n",
    "29 Apr 22,-4.04,Card ending 8493, ,CREDIT CARD PURCHASE,Madison Cornerstore Yarraville,Food & drink,Madison Coffee & Corner Store\n",
    "26 Apr 22,-4.04,Card ending 8493, ,CREDIT CARD PURCHASE,Madison Cornerstore Yarraville,Food & drink,Madison Coffee & Corner Store\n",
    "19 Apr 22,-9.30,Card ending 8493, ,CREDIT CARD PURCHASE,Madison Cornerstore Yarraville,Food & drink,Madison Coffee & Corner Store\n",
    "13 Apr 22,-9.30,Card ending 8493, ,CREDIT CARD PURCHASE,Madison Cornerstore Yarraville,Food & drink,Madison Coffee & Corner Store\n",
    "11 Apr 22,-4.04,Card ending 8493, ,CREDIT CARD PURCHASE,Madison Cornerstore Yarraville,Food & drink,Madison Coffee & Corner Store\"\"\""
   ]
  },
  {
   "cell_type": "code",
   "execution_count": 16,
   "id": "e1ff9fc2",
   "metadata": {},
   "outputs": [],
   "source": [
    "import pandas as pd\n",
    "import io"
   ]
  },
  {
   "cell_type": "code",
   "execution_count": 17,
   "id": "72da6cde",
   "metadata": {},
   "outputs": [],
   "source": [
    "tx_data = io.StringIO(txs)"
   ]
  },
  {
   "cell_type": "code",
   "execution_count": 19,
   "id": "007b3801",
   "metadata": {},
   "outputs": [],
   "source": [
    "df = pd.read_csv(tx_data, sep=\",\", names=\"Date,Amount,Account Number,Empty,Transaction Type,Transaction Details,Category,Merchant Name\".split(\",\"))"
   ]
  },
  {
   "cell_type": "code",
   "execution_count": 20,
   "id": "7bfbe4aa",
   "metadata": {},
   "outputs": [
    {
     "data": {
      "text/html": [
       "<div>\n",
       "<style scoped>\n",
       "    .dataframe tbody tr th:only-of-type {\n",
       "        vertical-align: middle;\n",
       "    }\n",
       "\n",
       "    .dataframe tbody tr th {\n",
       "        vertical-align: top;\n",
       "    }\n",
       "\n",
       "    .dataframe thead th {\n",
       "        text-align: right;\n",
       "    }\n",
       "</style>\n",
       "<table border=\"1\" class=\"dataframe\">\n",
       "  <thead>\n",
       "    <tr style=\"text-align: right;\">\n",
       "      <th></th>\n",
       "      <th>Date</th>\n",
       "      <th>Amount</th>\n",
       "      <th>Account Number</th>\n",
       "      <th>Empty</th>\n",
       "      <th>Transaction Type</th>\n",
       "      <th>Transaction Details</th>\n",
       "      <th>Category</th>\n",
       "      <th>Merchant Name</th>\n",
       "    </tr>\n",
       "  </thead>\n",
       "  <tbody>\n",
       "    <tr>\n",
       "      <th>0</th>\n",
       "      <td>01 Apr 23</td>\n",
       "      <td>-5.56</td>\n",
       "      <td>Card ending 8493</td>\n",
       "      <td></td>\n",
       "      <td>PURCHASE AUTHORISATION</td>\n",
       "      <td>Madison Cornerstore Yarraville</td>\n",
       "      <td>Food &amp; drink</td>\n",
       "      <td>Madison Coffee &amp; Corner Store</td>\n",
       "    </tr>\n",
       "    <tr>\n",
       "      <th>1</th>\n",
       "      <td>31 Mar 23</td>\n",
       "      <td>-5.06</td>\n",
       "      <td>Card ending 8493</td>\n",
       "      <td></td>\n",
       "      <td>CREDIT CARD PURCHASE</td>\n",
       "      <td>Madison Cornerstore Yarraville</td>\n",
       "      <td>Food &amp; drink</td>\n",
       "      <td>Madison Coffee &amp; Corner Store</td>\n",
       "    </tr>\n",
       "    <tr>\n",
       "      <th>2</th>\n",
       "      <td>31 Mar 23</td>\n",
       "      <td>-5.06</td>\n",
       "      <td>Card ending 8493</td>\n",
       "      <td></td>\n",
       "      <td>PURCHASE AUTHORISATION</td>\n",
       "      <td>Madison Cornerstore Yarraville</td>\n",
       "      <td>Food &amp; drink</td>\n",
       "      <td>Madison Coffee &amp; Corner Store</td>\n",
       "    </tr>\n",
       "    <tr>\n",
       "      <th>3</th>\n",
       "      <td>31 Mar 23</td>\n",
       "      <td>-5.06</td>\n",
       "      <td>Card ending 8493</td>\n",
       "      <td></td>\n",
       "      <td>CREDIT CARD PURCHASE</td>\n",
       "      <td>Madison Cornerstore Yarraville</td>\n",
       "      <td>Food &amp; drink</td>\n",
       "      <td>Madison Coffee &amp; Corner Store</td>\n",
       "    </tr>\n",
       "    <tr>\n",
       "      <th>4</th>\n",
       "      <td>30 Mar 23</td>\n",
       "      <td>-5.06</td>\n",
       "      <td>Card ending 8493</td>\n",
       "      <td></td>\n",
       "      <td>CREDIT CARD PURCHASE</td>\n",
       "      <td>Madison Cornerstore Yarraville</td>\n",
       "      <td>Food &amp; drink</td>\n",
       "      <td>Madison Coffee &amp; Corner Store</td>\n",
       "    </tr>\n",
       "    <tr>\n",
       "      <th>...</th>\n",
       "      <td>...</td>\n",
       "      <td>...</td>\n",
       "      <td>...</td>\n",
       "      <td>...</td>\n",
       "      <td>...</td>\n",
       "      <td>...</td>\n",
       "      <td>...</td>\n",
       "      <td>...</td>\n",
       "    </tr>\n",
       "    <tr>\n",
       "      <th>303</th>\n",
       "      <td>29 Apr 22</td>\n",
       "      <td>-4.04</td>\n",
       "      <td>Card ending 8493</td>\n",
       "      <td></td>\n",
       "      <td>CREDIT CARD PURCHASE</td>\n",
       "      <td>Madison Cornerstore Yarraville</td>\n",
       "      <td>Food &amp; drink</td>\n",
       "      <td>Madison Coffee &amp; Corner Store</td>\n",
       "    </tr>\n",
       "    <tr>\n",
       "      <th>304</th>\n",
       "      <td>26 Apr 22</td>\n",
       "      <td>-4.04</td>\n",
       "      <td>Card ending 8493</td>\n",
       "      <td></td>\n",
       "      <td>CREDIT CARD PURCHASE</td>\n",
       "      <td>Madison Cornerstore Yarraville</td>\n",
       "      <td>Food &amp; drink</td>\n",
       "      <td>Madison Coffee &amp; Corner Store</td>\n",
       "    </tr>\n",
       "    <tr>\n",
       "      <th>305</th>\n",
       "      <td>19 Apr 22</td>\n",
       "      <td>-9.30</td>\n",
       "      <td>Card ending 8493</td>\n",
       "      <td></td>\n",
       "      <td>CREDIT CARD PURCHASE</td>\n",
       "      <td>Madison Cornerstore Yarraville</td>\n",
       "      <td>Food &amp; drink</td>\n",
       "      <td>Madison Coffee &amp; Corner Store</td>\n",
       "    </tr>\n",
       "    <tr>\n",
       "      <th>306</th>\n",
       "      <td>13 Apr 22</td>\n",
       "      <td>-9.30</td>\n",
       "      <td>Card ending 8493</td>\n",
       "      <td></td>\n",
       "      <td>CREDIT CARD PURCHASE</td>\n",
       "      <td>Madison Cornerstore Yarraville</td>\n",
       "      <td>Food &amp; drink</td>\n",
       "      <td>Madison Coffee &amp; Corner Store</td>\n",
       "    </tr>\n",
       "    <tr>\n",
       "      <th>307</th>\n",
       "      <td>11 Apr 22</td>\n",
       "      <td>-4.04</td>\n",
       "      <td>Card ending 8493</td>\n",
       "      <td></td>\n",
       "      <td>CREDIT CARD PURCHASE</td>\n",
       "      <td>Madison Cornerstore Yarraville</td>\n",
       "      <td>Food &amp; drink</td>\n",
       "      <td>Madison Coffee &amp; Corner Store</td>\n",
       "    </tr>\n",
       "  </tbody>\n",
       "</table>\n",
       "<p>308 rows × 8 columns</p>\n",
       "</div>"
      ],
      "text/plain": [
       "          Date  Amount    Account Number Empty        Transaction Type  \\\n",
       "0    01 Apr 23   -5.56  Card ending 8493        PURCHASE AUTHORISATION   \n",
       "1    31 Mar 23   -5.06  Card ending 8493          CREDIT CARD PURCHASE   \n",
       "2    31 Mar 23   -5.06  Card ending 8493        PURCHASE AUTHORISATION   \n",
       "3    31 Mar 23   -5.06  Card ending 8493          CREDIT CARD PURCHASE   \n",
       "4    30 Mar 23   -5.06  Card ending 8493          CREDIT CARD PURCHASE   \n",
       "..         ...     ...               ...   ...                     ...   \n",
       "303  29 Apr 22   -4.04  Card ending 8493          CREDIT CARD PURCHASE   \n",
       "304  26 Apr 22   -4.04  Card ending 8493          CREDIT CARD PURCHASE   \n",
       "305  19 Apr 22   -9.30  Card ending 8493          CREDIT CARD PURCHASE   \n",
       "306  13 Apr 22   -9.30  Card ending 8493          CREDIT CARD PURCHASE   \n",
       "307  11 Apr 22   -4.04  Card ending 8493          CREDIT CARD PURCHASE   \n",
       "\n",
       "                Transaction Details      Category  \\\n",
       "0    Madison Cornerstore Yarraville  Food & drink   \n",
       "1    Madison Cornerstore Yarraville  Food & drink   \n",
       "2    Madison Cornerstore Yarraville  Food & drink   \n",
       "3    Madison Cornerstore Yarraville  Food & drink   \n",
       "4    Madison Cornerstore Yarraville  Food & drink   \n",
       "..                              ...           ...   \n",
       "303  Madison Cornerstore Yarraville  Food & drink   \n",
       "304  Madison Cornerstore Yarraville  Food & drink   \n",
       "305  Madison Cornerstore Yarraville  Food & drink   \n",
       "306  Madison Cornerstore Yarraville  Food & drink   \n",
       "307  Madison Cornerstore Yarraville  Food & drink   \n",
       "\n",
       "                     Merchant Name  \n",
       "0    Madison Coffee & Corner Store  \n",
       "1    Madison Coffee & Corner Store  \n",
       "2    Madison Coffee & Corner Store  \n",
       "3    Madison Coffee & Corner Store  \n",
       "4    Madison Coffee & Corner Store  \n",
       "..                             ...  \n",
       "303  Madison Coffee & Corner Store  \n",
       "304  Madison Coffee & Corner Store  \n",
       "305  Madison Coffee & Corner Store  \n",
       "306  Madison Coffee & Corner Store  \n",
       "307  Madison Coffee & Corner Store  \n",
       "\n",
       "[308 rows x 8 columns]"
      ]
     },
     "execution_count": 20,
     "metadata": {},
     "output_type": "execute_result"
    }
   ],
   "source": [
    "df"
   ]
  },
  {
   "cell_type": "code",
   "execution_count": 18,
   "id": "9033ffca",
   "metadata": {},
   "outputs": [
    {
     "data": {
      "text/plain": [
       "['Date',\n",
       " 'Amount',\n",
       " 'Account Number',\n",
       " 'Empty',\n",
       " 'Transaction Type',\n",
       " 'Transaction Details',\n",
       " 'Category',\n",
       " 'Merchant Name']"
      ]
     },
     "execution_count": 18,
     "metadata": {},
     "output_type": "execute_result"
    }
   ],
   "source": [
    "\"Date,Amount,Account Number,Empty,Transaction Type,Transaction Details,Category,Merchant Name\".split(\",\")"
   ]
  },
  {
   "cell_type": "code",
   "execution_count": 21,
   "id": "26306b7c",
   "metadata": {},
   "outputs": [],
   "source": [
    "df[\"Date\"] = pd.to_datetime(df[\"Date\"], dayfirst=True)"
   ]
  },
  {
   "cell_type": "code",
   "execution_count": 22,
   "id": "21a44bc7",
   "metadata": {},
   "outputs": [
    {
     "data": {
      "text/html": [
       "<div>\n",
       "<style scoped>\n",
       "    .dataframe tbody tr th:only-of-type {\n",
       "        vertical-align: middle;\n",
       "    }\n",
       "\n",
       "    .dataframe tbody tr th {\n",
       "        vertical-align: top;\n",
       "    }\n",
       "\n",
       "    .dataframe thead th {\n",
       "        text-align: right;\n",
       "    }\n",
       "</style>\n",
       "<table border=\"1\" class=\"dataframe\">\n",
       "  <thead>\n",
       "    <tr style=\"text-align: right;\">\n",
       "      <th></th>\n",
       "      <th>Date</th>\n",
       "      <th>Amount</th>\n",
       "      <th>Account Number</th>\n",
       "      <th>Empty</th>\n",
       "      <th>Transaction Type</th>\n",
       "      <th>Transaction Details</th>\n",
       "      <th>Category</th>\n",
       "      <th>Merchant Name</th>\n",
       "    </tr>\n",
       "  </thead>\n",
       "  <tbody>\n",
       "    <tr>\n",
       "      <th>0</th>\n",
       "      <td>2023-04-01</td>\n",
       "      <td>-5.56</td>\n",
       "      <td>Card ending 8493</td>\n",
       "      <td></td>\n",
       "      <td>PURCHASE AUTHORISATION</td>\n",
       "      <td>Madison Cornerstore Yarraville</td>\n",
       "      <td>Food &amp; drink</td>\n",
       "      <td>Madison Coffee &amp; Corner Store</td>\n",
       "    </tr>\n",
       "    <tr>\n",
       "      <th>1</th>\n",
       "      <td>2023-03-31</td>\n",
       "      <td>-5.06</td>\n",
       "      <td>Card ending 8493</td>\n",
       "      <td></td>\n",
       "      <td>CREDIT CARD PURCHASE</td>\n",
       "      <td>Madison Cornerstore Yarraville</td>\n",
       "      <td>Food &amp; drink</td>\n",
       "      <td>Madison Coffee &amp; Corner Store</td>\n",
       "    </tr>\n",
       "    <tr>\n",
       "      <th>2</th>\n",
       "      <td>2023-03-31</td>\n",
       "      <td>-5.06</td>\n",
       "      <td>Card ending 8493</td>\n",
       "      <td></td>\n",
       "      <td>PURCHASE AUTHORISATION</td>\n",
       "      <td>Madison Cornerstore Yarraville</td>\n",
       "      <td>Food &amp; drink</td>\n",
       "      <td>Madison Coffee &amp; Corner Store</td>\n",
       "    </tr>\n",
       "    <tr>\n",
       "      <th>3</th>\n",
       "      <td>2023-03-31</td>\n",
       "      <td>-5.06</td>\n",
       "      <td>Card ending 8493</td>\n",
       "      <td></td>\n",
       "      <td>CREDIT CARD PURCHASE</td>\n",
       "      <td>Madison Cornerstore Yarraville</td>\n",
       "      <td>Food &amp; drink</td>\n",
       "      <td>Madison Coffee &amp; Corner Store</td>\n",
       "    </tr>\n",
       "    <tr>\n",
       "      <th>4</th>\n",
       "      <td>2023-03-30</td>\n",
       "      <td>-5.06</td>\n",
       "      <td>Card ending 8493</td>\n",
       "      <td></td>\n",
       "      <td>CREDIT CARD PURCHASE</td>\n",
       "      <td>Madison Cornerstore Yarraville</td>\n",
       "      <td>Food &amp; drink</td>\n",
       "      <td>Madison Coffee &amp; Corner Store</td>\n",
       "    </tr>\n",
       "    <tr>\n",
       "      <th>...</th>\n",
       "      <td>...</td>\n",
       "      <td>...</td>\n",
       "      <td>...</td>\n",
       "      <td>...</td>\n",
       "      <td>...</td>\n",
       "      <td>...</td>\n",
       "      <td>...</td>\n",
       "      <td>...</td>\n",
       "    </tr>\n",
       "    <tr>\n",
       "      <th>303</th>\n",
       "      <td>2022-04-29</td>\n",
       "      <td>-4.04</td>\n",
       "      <td>Card ending 8493</td>\n",
       "      <td></td>\n",
       "      <td>CREDIT CARD PURCHASE</td>\n",
       "      <td>Madison Cornerstore Yarraville</td>\n",
       "      <td>Food &amp; drink</td>\n",
       "      <td>Madison Coffee &amp; Corner Store</td>\n",
       "    </tr>\n",
       "    <tr>\n",
       "      <th>304</th>\n",
       "      <td>2022-04-26</td>\n",
       "      <td>-4.04</td>\n",
       "      <td>Card ending 8493</td>\n",
       "      <td></td>\n",
       "      <td>CREDIT CARD PURCHASE</td>\n",
       "      <td>Madison Cornerstore Yarraville</td>\n",
       "      <td>Food &amp; drink</td>\n",
       "      <td>Madison Coffee &amp; Corner Store</td>\n",
       "    </tr>\n",
       "    <tr>\n",
       "      <th>305</th>\n",
       "      <td>2022-04-19</td>\n",
       "      <td>-9.30</td>\n",
       "      <td>Card ending 8493</td>\n",
       "      <td></td>\n",
       "      <td>CREDIT CARD PURCHASE</td>\n",
       "      <td>Madison Cornerstore Yarraville</td>\n",
       "      <td>Food &amp; drink</td>\n",
       "      <td>Madison Coffee &amp; Corner Store</td>\n",
       "    </tr>\n",
       "    <tr>\n",
       "      <th>306</th>\n",
       "      <td>2022-04-13</td>\n",
       "      <td>-9.30</td>\n",
       "      <td>Card ending 8493</td>\n",
       "      <td></td>\n",
       "      <td>CREDIT CARD PURCHASE</td>\n",
       "      <td>Madison Cornerstore Yarraville</td>\n",
       "      <td>Food &amp; drink</td>\n",
       "      <td>Madison Coffee &amp; Corner Store</td>\n",
       "    </tr>\n",
       "    <tr>\n",
       "      <th>307</th>\n",
       "      <td>2022-04-11</td>\n",
       "      <td>-4.04</td>\n",
       "      <td>Card ending 8493</td>\n",
       "      <td></td>\n",
       "      <td>CREDIT CARD PURCHASE</td>\n",
       "      <td>Madison Cornerstore Yarraville</td>\n",
       "      <td>Food &amp; drink</td>\n",
       "      <td>Madison Coffee &amp; Corner Store</td>\n",
       "    </tr>\n",
       "  </tbody>\n",
       "</table>\n",
       "<p>308 rows × 8 columns</p>\n",
       "</div>"
      ],
      "text/plain": [
       "          Date  Amount    Account Number Empty        Transaction Type  \\\n",
       "0   2023-04-01   -5.56  Card ending 8493        PURCHASE AUTHORISATION   \n",
       "1   2023-03-31   -5.06  Card ending 8493          CREDIT CARD PURCHASE   \n",
       "2   2023-03-31   -5.06  Card ending 8493        PURCHASE AUTHORISATION   \n",
       "3   2023-03-31   -5.06  Card ending 8493          CREDIT CARD PURCHASE   \n",
       "4   2023-03-30   -5.06  Card ending 8493          CREDIT CARD PURCHASE   \n",
       "..         ...     ...               ...   ...                     ...   \n",
       "303 2022-04-29   -4.04  Card ending 8493          CREDIT CARD PURCHASE   \n",
       "304 2022-04-26   -4.04  Card ending 8493          CREDIT CARD PURCHASE   \n",
       "305 2022-04-19   -9.30  Card ending 8493          CREDIT CARD PURCHASE   \n",
       "306 2022-04-13   -9.30  Card ending 8493          CREDIT CARD PURCHASE   \n",
       "307 2022-04-11   -4.04  Card ending 8493          CREDIT CARD PURCHASE   \n",
       "\n",
       "                Transaction Details      Category  \\\n",
       "0    Madison Cornerstore Yarraville  Food & drink   \n",
       "1    Madison Cornerstore Yarraville  Food & drink   \n",
       "2    Madison Cornerstore Yarraville  Food & drink   \n",
       "3    Madison Cornerstore Yarraville  Food & drink   \n",
       "4    Madison Cornerstore Yarraville  Food & drink   \n",
       "..                              ...           ...   \n",
       "303  Madison Cornerstore Yarraville  Food & drink   \n",
       "304  Madison Cornerstore Yarraville  Food & drink   \n",
       "305  Madison Cornerstore Yarraville  Food & drink   \n",
       "306  Madison Cornerstore Yarraville  Food & drink   \n",
       "307  Madison Cornerstore Yarraville  Food & drink   \n",
       "\n",
       "                     Merchant Name  \n",
       "0    Madison Coffee & Corner Store  \n",
       "1    Madison Coffee & Corner Store  \n",
       "2    Madison Coffee & Corner Store  \n",
       "3    Madison Coffee & Corner Store  \n",
       "4    Madison Coffee & Corner Store  \n",
       "..                             ...  \n",
       "303  Madison Coffee & Corner Store  \n",
       "304  Madison Coffee & Corner Store  \n",
       "305  Madison Coffee & Corner Store  \n",
       "306  Madison Coffee & Corner Store  \n",
       "307  Madison Coffee & Corner Store  \n",
       "\n",
       "[308 rows x 8 columns]"
      ]
     },
     "execution_count": 22,
     "metadata": {},
     "output_type": "execute_result"
    }
   ],
   "source": [
    "df"
   ]
  },
  {
   "cell_type": "code",
   "execution_count": 27,
   "id": "04f3bf02",
   "metadata": {},
   "outputs": [
    {
     "data": {
      "text/html": [
       "<div>\n",
       "<style scoped>\n",
       "    .dataframe tbody tr th:only-of-type {\n",
       "        vertical-align: middle;\n",
       "    }\n",
       "\n",
       "    .dataframe tbody tr th {\n",
       "        vertical-align: top;\n",
       "    }\n",
       "\n",
       "    .dataframe thead th {\n",
       "        text-align: right;\n",
       "    }\n",
       "</style>\n",
       "<table border=\"1\" class=\"dataframe\">\n",
       "  <thead>\n",
       "    <tr style=\"text-align: right;\">\n",
       "      <th></th>\n",
       "      <th>DATE</th>\n",
       "      <th>Count</th>\n",
       "    </tr>\n",
       "  </thead>\n",
       "  <tbody>\n",
       "    <tr>\n",
       "      <th>10</th>\n",
       "      <td>2022-05-09</td>\n",
       "      <td>3</td>\n",
       "    </tr>\n",
       "    <tr>\n",
       "      <th>16</th>\n",
       "      <td>2022-05-23</td>\n",
       "      <td>2</td>\n",
       "    </tr>\n",
       "    <tr>\n",
       "      <th>29</th>\n",
       "      <td>2022-06-20</td>\n",
       "      <td>2</td>\n",
       "    </tr>\n",
       "    <tr>\n",
       "      <th>40</th>\n",
       "      <td>2022-07-11</td>\n",
       "      <td>2</td>\n",
       "    </tr>\n",
       "    <tr>\n",
       "      <th>41</th>\n",
       "      <td>2022-07-12</td>\n",
       "      <td>2</td>\n",
       "    </tr>\n",
       "    <tr>\n",
       "      <th>...</th>\n",
       "      <td>...</td>\n",
       "      <td>...</td>\n",
       "    </tr>\n",
       "    <tr>\n",
       "      <th>190</th>\n",
       "      <td>2023-03-21</td>\n",
       "      <td>2</td>\n",
       "    </tr>\n",
       "    <tr>\n",
       "      <th>194</th>\n",
       "      <td>2023-03-27</td>\n",
       "      <td>3</td>\n",
       "    </tr>\n",
       "    <tr>\n",
       "      <th>195</th>\n",
       "      <td>2023-03-28</td>\n",
       "      <td>2</td>\n",
       "    </tr>\n",
       "    <tr>\n",
       "      <th>197</th>\n",
       "      <td>2023-03-30</td>\n",
       "      <td>2</td>\n",
       "    </tr>\n",
       "    <tr>\n",
       "      <th>198</th>\n",
       "      <td>2023-03-31</td>\n",
       "      <td>3</td>\n",
       "    </tr>\n",
       "  </tbody>\n",
       "</table>\n",
       "<p>70 rows × 2 columns</p>\n",
       "</div>"
      ],
      "text/plain": [
       "           DATE  Count\n",
       "10   2022-05-09      3\n",
       "16   2022-05-23      2\n",
       "29   2022-06-20      2\n",
       "40   2022-07-11      2\n",
       "41   2022-07-12      2\n",
       "..          ...    ...\n",
       "190  2023-03-21      2\n",
       "194  2023-03-27      3\n",
       "195  2023-03-28      2\n",
       "197  2023-03-30      2\n",
       "198  2023-03-31      3\n",
       "\n",
       "[70 rows x 2 columns]"
      ]
     },
     "metadata": {},
     "output_type": "display_data"
    }
   ],
   "source": [
    "df1 = df[\"Date\"].dt.date.value_counts().sort_index().reset_index()\n",
    "df1.columns = [\"DATE\", \"Count\"]\n",
    "display(df1[df1[\"Count\"] > 1])"
   ]
  },
  {
   "cell_type": "code",
   "execution_count": 29,
   "id": "b39bd139",
   "metadata": {},
   "outputs": [],
   "source": [
    "dodgy_txs = (df1[df1[\"Count\"] > 1]).to_dict(orient=\"records\")"
   ]
  },
  {
   "cell_type": "code",
   "execution_count": 54,
   "id": "1cf1d022",
   "metadata": {},
   "outputs": [
    {
     "data": {
      "text/plain": [
       "{'DATE': datetime.date(2022, 5, 9), 'Count': 3}"
      ]
     },
     "metadata": {},
     "output_type": "display_data"
    },
    {
     "data": {
      "text/plain": [
       "'Monday, 9 May 2022 - charged 3 times'"
      ]
     },
     "metadata": {},
     "output_type": "display_data"
    },
    {
     "data": {
      "text/plain": [
       "{'DATE': datetime.date(2022, 5, 23), 'Count': 2}"
      ]
     },
     "metadata": {},
     "output_type": "display_data"
    },
    {
     "data": {
      "text/plain": [
       "'Monday, 23 May 2022 - charged 2 times'"
      ]
     },
     "metadata": {},
     "output_type": "display_data"
    },
    {
     "data": {
      "text/plain": [
       "{'DATE': datetime.date(2022, 6, 20), 'Count': 2}"
      ]
     },
     "metadata": {},
     "output_type": "display_data"
    },
    {
     "data": {
      "text/plain": [
       "'Monday, 20 June 2022 - charged 2 times'"
      ]
     },
     "metadata": {},
     "output_type": "display_data"
    },
    {
     "data": {
      "text/plain": [
       "{'DATE': datetime.date(2022, 7, 11), 'Count': 2}"
      ]
     },
     "metadata": {},
     "output_type": "display_data"
    },
    {
     "data": {
      "text/plain": [
       "'Monday, 11 July 2022 - charged 2 times'"
      ]
     },
     "metadata": {},
     "output_type": "display_data"
    },
    {
     "data": {
      "text/plain": [
       "{'DATE': datetime.date(2022, 7, 12), 'Count': 2}"
      ]
     },
     "metadata": {},
     "output_type": "display_data"
    },
    {
     "data": {
      "text/plain": [
       "'Tuesday, 12 July 2022 - charged 2 times'"
      ]
     },
     "metadata": {},
     "output_type": "display_data"
    },
    {
     "data": {
      "text/plain": [
       "{'DATE': datetime.date(2022, 7, 18), 'Count': 2}"
      ]
     },
     "metadata": {},
     "output_type": "display_data"
    },
    {
     "data": {
      "text/plain": [
       "'Monday, 18 July 2022 - charged 2 times'"
      ]
     },
     "metadata": {},
     "output_type": "display_data"
    },
    {
     "data": {
      "text/plain": [
       "{'DATE': datetime.date(2022, 7, 21), 'Count': 2}"
      ]
     },
     "metadata": {},
     "output_type": "display_data"
    },
    {
     "data": {
      "text/plain": [
       "'Thursday, 21 July 2022 - charged 2 times'"
      ]
     },
     "metadata": {},
     "output_type": "display_data"
    },
    {
     "data": {
      "text/plain": [
       "{'DATE': datetime.date(2022, 7, 25), 'Count': 3}"
      ]
     },
     "metadata": {},
     "output_type": "display_data"
    },
    {
     "data": {
      "text/plain": [
       "'Monday, 25 July 2022 - charged 3 times'"
      ]
     },
     "metadata": {},
     "output_type": "display_data"
    },
    {
     "data": {
      "text/plain": [
       "{'DATE': datetime.date(2022, 8, 1), 'Count': 3}"
      ]
     },
     "metadata": {},
     "output_type": "display_data"
    },
    {
     "data": {
      "text/plain": [
       "'Monday, 1 August 2022 - charged 3 times'"
      ]
     },
     "metadata": {},
     "output_type": "display_data"
    },
    {
     "data": {
      "text/plain": [
       "{'DATE': datetime.date(2022, 8, 3), 'Count': 2}"
      ]
     },
     "metadata": {},
     "output_type": "display_data"
    },
    {
     "data": {
      "text/plain": [
       "'Wednesday, 3 August 2022 - charged 2 times'"
      ]
     },
     "metadata": {},
     "output_type": "display_data"
    },
    {
     "data": {
      "text/plain": [
       "{'DATE': datetime.date(2022, 8, 8), 'Count': 2}"
      ]
     },
     "metadata": {},
     "output_type": "display_data"
    },
    {
     "data": {
      "text/plain": [
       "'Monday, 8 August 2022 - charged 2 times'"
      ]
     },
     "metadata": {},
     "output_type": "display_data"
    },
    {
     "data": {
      "text/plain": [
       "{'DATE': datetime.date(2022, 8, 10), 'Count': 2}"
      ]
     },
     "metadata": {},
     "output_type": "display_data"
    },
    {
     "data": {
      "text/plain": [
       "'Wednesday, 10 August 2022 - charged 2 times'"
      ]
     },
     "metadata": {},
     "output_type": "display_data"
    },
    {
     "data": {
      "text/plain": [
       "{'DATE': datetime.date(2022, 8, 15), 'Count': 4}"
      ]
     },
     "metadata": {},
     "output_type": "display_data"
    },
    {
     "data": {
      "text/plain": [
       "'Monday, 15 August 2022 - charged 4 times'"
      ]
     },
     "metadata": {},
     "output_type": "display_data"
    },
    {
     "data": {
      "text/plain": [
       "{'DATE': datetime.date(2022, 8, 22), 'Count': 2}"
      ]
     },
     "metadata": {},
     "output_type": "display_data"
    },
    {
     "data": {
      "text/plain": [
       "'Monday, 22 August 2022 - charged 2 times'"
      ]
     },
     "metadata": {},
     "output_type": "display_data"
    },
    {
     "data": {
      "text/plain": [
       "{'DATE': datetime.date(2022, 8, 29), 'Count': 4}"
      ]
     },
     "metadata": {},
     "output_type": "display_data"
    },
    {
     "data": {
      "text/plain": [
       "'Monday, 29 August 2022 - charged 4 times'"
      ]
     },
     "metadata": {},
     "output_type": "display_data"
    },
    {
     "data": {
      "text/plain": [
       "{'DATE': datetime.date(2022, 8, 30), 'Count': 2}"
      ]
     },
     "metadata": {},
     "output_type": "display_data"
    },
    {
     "data": {
      "text/plain": [
       "'Tuesday, 30 August 2022 - charged 2 times'"
      ]
     },
     "metadata": {},
     "output_type": "display_data"
    },
    {
     "data": {
      "text/plain": [
       "{'DATE': datetime.date(2022, 9, 5), 'Count': 3}"
      ]
     },
     "metadata": {},
     "output_type": "display_data"
    },
    {
     "data": {
      "text/plain": [
       "'Monday, 5 September 2022 - charged 3 times'"
      ]
     },
     "metadata": {},
     "output_type": "display_data"
    },
    {
     "data": {
      "text/plain": [
       "{'DATE': datetime.date(2022, 9, 12), 'Count': 3}"
      ]
     },
     "metadata": {},
     "output_type": "display_data"
    },
    {
     "data": {
      "text/plain": [
       "'Monday, 12 September 2022 - charged 3 times'"
      ]
     },
     "metadata": {},
     "output_type": "display_data"
    },
    {
     "data": {
      "text/plain": [
       "{'DATE': datetime.date(2022, 9, 19), 'Count': 3}"
      ]
     },
     "metadata": {},
     "output_type": "display_data"
    },
    {
     "data": {
      "text/plain": [
       "'Monday, 19 September 2022 - charged 3 times'"
      ]
     },
     "metadata": {},
     "output_type": "display_data"
    },
    {
     "data": {
      "text/plain": [
       "{'DATE': datetime.date(2022, 9, 23), 'Count': 2}"
      ]
     },
     "metadata": {},
     "output_type": "display_data"
    },
    {
     "data": {
      "text/plain": [
       "'Friday, 23 September 2022 - charged 2 times'"
      ]
     },
     "metadata": {},
     "output_type": "display_data"
    },
    {
     "data": {
      "text/plain": [
       "{'DATE': datetime.date(2022, 9, 26), 'Count': 2}"
      ]
     },
     "metadata": {},
     "output_type": "display_data"
    },
    {
     "data": {
      "text/plain": [
       "'Monday, 26 September 2022 - charged 2 times'"
      ]
     },
     "metadata": {},
     "output_type": "display_data"
    },
    {
     "data": {
      "text/plain": [
       "{'DATE': datetime.date(2022, 9, 28), 'Count': 2}"
      ]
     },
     "metadata": {},
     "output_type": "display_data"
    },
    {
     "data": {
      "text/plain": [
       "'Wednesday, 28 September 2022 - charged 2 times'"
      ]
     },
     "metadata": {},
     "output_type": "display_data"
    },
    {
     "data": {
      "text/plain": [
       "{'DATE': datetime.date(2022, 10, 3), 'Count': 4}"
      ]
     },
     "metadata": {},
     "output_type": "display_data"
    },
    {
     "data": {
      "text/plain": [
       "'Monday, 3 October 2022 - charged 4 times'"
      ]
     },
     "metadata": {},
     "output_type": "display_data"
    },
    {
     "data": {
      "text/plain": [
       "{'DATE': datetime.date(2022, 10, 5), 'Count': 2}"
      ]
     },
     "metadata": {},
     "output_type": "display_data"
    },
    {
     "data": {
      "text/plain": [
       "'Wednesday, 5 October 2022 - charged 2 times'"
      ]
     },
     "metadata": {},
     "output_type": "display_data"
    },
    {
     "data": {
      "text/plain": [
       "{'DATE': datetime.date(2022, 10, 10), 'Count': 4}"
      ]
     },
     "metadata": {},
     "output_type": "display_data"
    },
    {
     "data": {
      "text/plain": [
       "'Monday, 10 October 2022 - charged 4 times'"
      ]
     },
     "metadata": {},
     "output_type": "display_data"
    },
    {
     "data": {
      "text/plain": [
       "{'DATE': datetime.date(2022, 10, 13), 'Count': 2}"
      ]
     },
     "metadata": {},
     "output_type": "display_data"
    },
    {
     "data": {
      "text/plain": [
       "'Thursday, 13 October 2022 - charged 2 times'"
      ]
     },
     "metadata": {},
     "output_type": "display_data"
    },
    {
     "data": {
      "text/plain": [
       "{'DATE': datetime.date(2022, 10, 17), 'Count': 4}"
      ]
     },
     "metadata": {},
     "output_type": "display_data"
    },
    {
     "data": {
      "text/plain": [
       "'Monday, 17 October 2022 - charged 4 times'"
      ]
     },
     "metadata": {},
     "output_type": "display_data"
    },
    {
     "data": {
      "text/plain": [
       "{'DATE': datetime.date(2022, 10, 19), 'Count': 2}"
      ]
     },
     "metadata": {},
     "output_type": "display_data"
    },
    {
     "data": {
      "text/plain": [
       "'Wednesday, 19 October 2022 - charged 2 times'"
      ]
     },
     "metadata": {},
     "output_type": "display_data"
    },
    {
     "data": {
      "text/plain": [
       "{'DATE': datetime.date(2022, 10, 21), 'Count': 2}"
      ]
     },
     "metadata": {},
     "output_type": "display_data"
    },
    {
     "data": {
      "text/plain": [
       "'Friday, 21 October 2022 - charged 2 times'"
      ]
     },
     "metadata": {},
     "output_type": "display_data"
    },
    {
     "data": {
      "text/plain": [
       "{'DATE': datetime.date(2022, 10, 24), 'Count': 4}"
      ]
     },
     "metadata": {},
     "output_type": "display_data"
    },
    {
     "data": {
      "text/plain": [
       "'Monday, 24 October 2022 - charged 4 times'"
      ]
     },
     "metadata": {},
     "output_type": "display_data"
    },
    {
     "data": {
      "text/plain": [
       "{'DATE': datetime.date(2022, 10, 25), 'Count': 2}"
      ]
     },
     "metadata": {},
     "output_type": "display_data"
    },
    {
     "data": {
      "text/plain": [
       "'Tuesday, 25 October 2022 - charged 2 times'"
      ]
     },
     "metadata": {},
     "output_type": "display_data"
    },
    {
     "data": {
      "text/plain": [
       "{'DATE': datetime.date(2022, 10, 26), 'Count': 2}"
      ]
     },
     "metadata": {},
     "output_type": "display_data"
    },
    {
     "data": {
      "text/plain": [
       "'Wednesday, 26 October 2022 - charged 2 times'"
      ]
     },
     "metadata": {},
     "output_type": "display_data"
    },
    {
     "data": {
      "text/plain": [
       "{'DATE': datetime.date(2022, 10, 27), 'Count': 2}"
      ]
     },
     "metadata": {},
     "output_type": "display_data"
    },
    {
     "data": {
      "text/plain": [
       "'Thursday, 27 October 2022 - charged 2 times'"
      ]
     },
     "metadata": {},
     "output_type": "display_data"
    },
    {
     "data": {
      "text/plain": [
       "{'DATE': datetime.date(2022, 10, 31), 'Count': 3}"
      ]
     },
     "metadata": {},
     "output_type": "display_data"
    },
    {
     "data": {
      "text/plain": [
       "'Monday, 31 October 2022 - charged 3 times'"
      ]
     },
     "metadata": {},
     "output_type": "display_data"
    },
    {
     "data": {
      "text/plain": [
       "{'DATE': datetime.date(2022, 11, 1), 'Count': 2}"
      ]
     },
     "metadata": {},
     "output_type": "display_data"
    },
    {
     "data": {
      "text/plain": [
       "'Tuesday, 1 November 2022 - charged 2 times'"
      ]
     },
     "metadata": {},
     "output_type": "display_data"
    },
    {
     "data": {
      "text/plain": [
       "{'DATE': datetime.date(2022, 11, 3), 'Count': 2}"
      ]
     },
     "metadata": {},
     "output_type": "display_data"
    },
    {
     "data": {
      "text/plain": [
       "'Thursday, 3 November 2022 - charged 2 times'"
      ]
     },
     "metadata": {},
     "output_type": "display_data"
    },
    {
     "data": {
      "text/plain": [
       "{'DATE': datetime.date(2022, 11, 7), 'Count': 3}"
      ]
     },
     "metadata": {},
     "output_type": "display_data"
    },
    {
     "data": {
      "text/plain": [
       "'Monday, 7 November 2022 - charged 3 times'"
      ]
     },
     "metadata": {},
     "output_type": "display_data"
    },
    {
     "data": {
      "text/plain": [
       "{'DATE': datetime.date(2022, 11, 14), 'Count': 3}"
      ]
     },
     "metadata": {},
     "output_type": "display_data"
    },
    {
     "data": {
      "text/plain": [
       "'Monday, 14 November 2022 - charged 3 times'"
      ]
     },
     "metadata": {},
     "output_type": "display_data"
    },
    {
     "data": {
      "text/plain": [
       "{'DATE': datetime.date(2022, 11, 17), 'Count': 2}"
      ]
     },
     "metadata": {},
     "output_type": "display_data"
    },
    {
     "data": {
      "text/plain": [
       "'Thursday, 17 November 2022 - charged 2 times'"
      ]
     },
     "metadata": {},
     "output_type": "display_data"
    },
    {
     "data": {
      "text/plain": [
       "{'DATE': datetime.date(2022, 11, 21), 'Count': 5}"
      ]
     },
     "metadata": {},
     "output_type": "display_data"
    },
    {
     "data": {
      "text/plain": [
       "'Monday, 21 November 2022 - charged 5 times'"
      ]
     },
     "metadata": {},
     "output_type": "display_data"
    },
    {
     "data": {
      "text/plain": [
       "{'DATE': datetime.date(2022, 11, 24), 'Count': 2}"
      ]
     },
     "metadata": {},
     "output_type": "display_data"
    },
    {
     "data": {
      "text/plain": [
       "'Thursday, 24 November 2022 - charged 2 times'"
      ]
     },
     "metadata": {},
     "output_type": "display_data"
    },
    {
     "data": {
      "text/plain": [
       "{'DATE': datetime.date(2022, 11, 25), 'Count': 2}"
      ]
     },
     "metadata": {},
     "output_type": "display_data"
    },
    {
     "data": {
      "text/plain": [
       "'Friday, 25 November 2022 - charged 2 times'"
      ]
     },
     "metadata": {},
     "output_type": "display_data"
    },
    {
     "data": {
      "text/plain": [
       "{'DATE': datetime.date(2022, 11, 28), 'Count': 3}"
      ]
     },
     "metadata": {},
     "output_type": "display_data"
    },
    {
     "data": {
      "text/plain": [
       "'Monday, 28 November 2022 - charged 3 times'"
      ]
     },
     "metadata": {},
     "output_type": "display_data"
    },
    {
     "data": {
      "text/plain": [
       "{'DATE': datetime.date(2022, 11, 29), 'Count': 2}"
      ]
     },
     "metadata": {},
     "output_type": "display_data"
    },
    {
     "data": {
      "text/plain": [
       "'Tuesday, 29 November 2022 - charged 2 times'"
      ]
     },
     "metadata": {},
     "output_type": "display_data"
    },
    {
     "data": {
      "text/plain": [
       "{'DATE': datetime.date(2022, 12, 1), 'Count': 2}"
      ]
     },
     "metadata": {},
     "output_type": "display_data"
    },
    {
     "data": {
      "text/plain": [
       "'Thursday, 1 December 2022 - charged 2 times'"
      ]
     },
     "metadata": {},
     "output_type": "display_data"
    },
    {
     "data": {
      "text/plain": [
       "{'DATE': datetime.date(2022, 12, 5), 'Count': 3}"
      ]
     },
     "metadata": {},
     "output_type": "display_data"
    },
    {
     "data": {
      "text/plain": [
       "'Monday, 5 December 2022 - charged 3 times'"
      ]
     },
     "metadata": {},
     "output_type": "display_data"
    },
    {
     "data": {
      "text/plain": [
       "{'DATE': datetime.date(2022, 12, 9), 'Count': 2}"
      ]
     },
     "metadata": {},
     "output_type": "display_data"
    },
    {
     "data": {
      "text/plain": [
       "'Friday, 9 December 2022 - charged 2 times'"
      ]
     },
     "metadata": {},
     "output_type": "display_data"
    },
    {
     "data": {
      "text/plain": [
       "{'DATE': datetime.date(2022, 12, 12), 'Count': 4}"
      ]
     },
     "metadata": {},
     "output_type": "display_data"
    },
    {
     "data": {
      "text/plain": [
       "'Monday, 12 December 2022 - charged 4 times'"
      ]
     },
     "metadata": {},
     "output_type": "display_data"
    },
    {
     "data": {
      "text/plain": [
       "{'DATE': datetime.date(2022, 12, 13), 'Count': 2}"
      ]
     },
     "metadata": {},
     "output_type": "display_data"
    },
    {
     "data": {
      "text/plain": [
       "'Tuesday, 13 December 2022 - charged 2 times'"
      ]
     },
     "metadata": {},
     "output_type": "display_data"
    },
    {
     "data": {
      "text/plain": [
       "{'DATE': datetime.date(2022, 12, 16), 'Count': 2}"
      ]
     },
     "metadata": {},
     "output_type": "display_data"
    },
    {
     "data": {
      "text/plain": [
       "'Friday, 16 December 2022 - charged 2 times'"
      ]
     },
     "metadata": {},
     "output_type": "display_data"
    },
    {
     "data": {
      "text/plain": [
       "{'DATE': datetime.date(2022, 12, 19), 'Count': 4}"
      ]
     },
     "metadata": {},
     "output_type": "display_data"
    },
    {
     "data": {
      "text/plain": [
       "'Monday, 19 December 2022 - charged 4 times'"
      ]
     },
     "metadata": {},
     "output_type": "display_data"
    },
    {
     "data": {
      "text/plain": [
       "{'DATE': datetime.date(2022, 12, 28), 'Count': 2}"
      ]
     },
     "metadata": {},
     "output_type": "display_data"
    },
    {
     "data": {
      "text/plain": [
       "'Wednesday, 28 December 2022 - charged 2 times'"
      ]
     },
     "metadata": {},
     "output_type": "display_data"
    },
    {
     "data": {
      "text/plain": [
       "{'DATE': datetime.date(2023, 1, 16), 'Count': 3}"
      ]
     },
     "metadata": {},
     "output_type": "display_data"
    },
    {
     "data": {
      "text/plain": [
       "'Monday, 16 January 2023 - charged 3 times'"
      ]
     },
     "metadata": {},
     "output_type": "display_data"
    },
    {
     "data": {
      "text/plain": [
       "{'DATE': datetime.date(2023, 1, 23), 'Count': 2}"
      ]
     },
     "metadata": {},
     "output_type": "display_data"
    },
    {
     "data": {
      "text/plain": [
       "'Monday, 23 January 2023 - charged 2 times'"
      ]
     },
     "metadata": {},
     "output_type": "display_data"
    },
    {
     "data": {
      "text/plain": [
       "{'DATE': datetime.date(2023, 1, 27), 'Count': 2}"
      ]
     },
     "metadata": {},
     "output_type": "display_data"
    },
    {
     "data": {
      "text/plain": [
       "'Friday, 27 January 2023 - charged 2 times'"
      ]
     },
     "metadata": {},
     "output_type": "display_data"
    },
    {
     "data": {
      "text/plain": [
       "{'DATE': datetime.date(2023, 1, 30), 'Count': 2}"
      ]
     },
     "metadata": {},
     "output_type": "display_data"
    },
    {
     "data": {
      "text/plain": [
       "'Monday, 30 January 2023 - charged 2 times'"
      ]
     },
     "metadata": {},
     "output_type": "display_data"
    },
    {
     "data": {
      "text/plain": [
       "{'DATE': datetime.date(2023, 2, 6), 'Count': 3}"
      ]
     },
     "metadata": {},
     "output_type": "display_data"
    },
    {
     "data": {
      "text/plain": [
       "'Monday, 6 February 2023 - charged 3 times'"
      ]
     },
     "metadata": {},
     "output_type": "display_data"
    },
    {
     "data": {
      "text/plain": [
       "{'DATE': datetime.date(2023, 2, 13), 'Count': 3}"
      ]
     },
     "metadata": {},
     "output_type": "display_data"
    },
    {
     "data": {
      "text/plain": [
       "'Monday, 13 February 2023 - charged 3 times'"
      ]
     },
     "metadata": {},
     "output_type": "display_data"
    },
    {
     "data": {
      "text/plain": [
       "{'DATE': datetime.date(2023, 2, 16), 'Count': 2}"
      ]
     },
     "metadata": {},
     "output_type": "display_data"
    },
    {
     "data": {
      "text/plain": [
       "'Thursday, 16 February 2023 - charged 2 times'"
      ]
     },
     "metadata": {},
     "output_type": "display_data"
    },
    {
     "data": {
      "text/plain": [
       "{'DATE': datetime.date(2023, 2, 20), 'Count': 3}"
      ]
     },
     "metadata": {},
     "output_type": "display_data"
    },
    {
     "data": {
      "text/plain": [
       "'Monday, 20 February 2023 - charged 3 times'"
      ]
     },
     "metadata": {},
     "output_type": "display_data"
    },
    {
     "data": {
      "text/plain": [
       "{'DATE': datetime.date(2023, 2, 27), 'Count': 3}"
      ]
     },
     "metadata": {},
     "output_type": "display_data"
    },
    {
     "data": {
      "text/plain": [
       "'Monday, 27 February 2023 - charged 3 times'"
      ]
     },
     "metadata": {},
     "output_type": "display_data"
    },
    {
     "data": {
      "text/plain": [
       "{'DATE': datetime.date(2023, 2, 28), 'Count': 2}"
      ]
     },
     "metadata": {},
     "output_type": "display_data"
    },
    {
     "data": {
      "text/plain": [
       "'Tuesday, 28 February 2023 - charged 2 times'"
      ]
     },
     "metadata": {},
     "output_type": "display_data"
    },
    {
     "data": {
      "text/plain": [
       "{'DATE': datetime.date(2023, 3, 7), 'Count': 2}"
      ]
     },
     "metadata": {},
     "output_type": "display_data"
    },
    {
     "data": {
      "text/plain": [
       "'Tuesday, 7 March 2023 - charged 2 times'"
      ]
     },
     "metadata": {},
     "output_type": "display_data"
    },
    {
     "data": {
      "text/plain": [
       "{'DATE': datetime.date(2023, 3, 13), 'Count': 3}"
      ]
     },
     "metadata": {},
     "output_type": "display_data"
    },
    {
     "data": {
      "text/plain": [
       "'Monday, 13 March 2023 - charged 3 times'"
      ]
     },
     "metadata": {},
     "output_type": "display_data"
    },
    {
     "data": {
      "text/plain": [
       "{'DATE': datetime.date(2023, 3, 20), 'Count': 2}"
      ]
     },
     "metadata": {},
     "output_type": "display_data"
    },
    {
     "data": {
      "text/plain": [
       "'Monday, 20 March 2023 - charged 2 times'"
      ]
     },
     "metadata": {},
     "output_type": "display_data"
    },
    {
     "data": {
      "text/plain": [
       "{'DATE': datetime.date(2023, 3, 21), 'Count': 2}"
      ]
     },
     "metadata": {},
     "output_type": "display_data"
    },
    {
     "data": {
      "text/plain": [
       "'Tuesday, 21 March 2023 - charged 2 times'"
      ]
     },
     "metadata": {},
     "output_type": "display_data"
    },
    {
     "data": {
      "text/plain": [
       "{'DATE': datetime.date(2023, 3, 27), 'Count': 3}"
      ]
     },
     "metadata": {},
     "output_type": "display_data"
    },
    {
     "data": {
      "text/plain": [
       "'Monday, 27 March 2023 - charged 3 times'"
      ]
     },
     "metadata": {},
     "output_type": "display_data"
    },
    {
     "data": {
      "text/plain": [
       "{'DATE': datetime.date(2023, 3, 28), 'Count': 2}"
      ]
     },
     "metadata": {},
     "output_type": "display_data"
    },
    {
     "data": {
      "text/plain": [
       "'Tuesday, 28 March 2023 - charged 2 times'"
      ]
     },
     "metadata": {},
     "output_type": "display_data"
    },
    {
     "data": {
      "text/plain": [
       "{'DATE': datetime.date(2023, 3, 30), 'Count': 2}"
      ]
     },
     "metadata": {},
     "output_type": "display_data"
    },
    {
     "data": {
      "text/plain": [
       "'Thursday, 30 March 2023 - charged 2 times'"
      ]
     },
     "metadata": {},
     "output_type": "display_data"
    },
    {
     "data": {
      "text/plain": [
       "{'DATE': datetime.date(2023, 3, 31), 'Count': 3}"
      ]
     },
     "metadata": {},
     "output_type": "display_data"
    },
    {
     "data": {
      "text/plain": [
       "'Friday, 31 March 2023 - charged 3 times'"
      ]
     },
     "metadata": {},
     "output_type": "display_data"
    }
   ],
   "source": [
    "import humanize\n",
    "for dtx in dodgy_txs:\n",
    "    dte = dtx[\"DATE\"]\n",
    "    display(dtx)\n",
    "    \n",
    "    display(\n",
    "        \"{} - charged {} times\".format(\n",
    "            dte.strftime(\"%A, %-d %B %Y\"),\n",
    "            dtx[\"Count\"]\n",
    "        )\n",
    "    )"
   ]
  },
  {
   "cell_type": "code",
   "execution_count": 31,
   "id": "09b26fc5",
   "metadata": {},
   "outputs": [
    {
     "name": "stdout",
     "output_type": "stream",
     "text": [
      "Collecting humanize\n",
      "  Downloading humanize-4.6.0-py3-none-any.whl (109 kB)\n",
      "\u001b[K     |████████████████████████████████| 109 kB 10.3 MB/s eta 0:00:01\n",
      "\u001b[?25hInstalling collected packages: humanize\n",
      "Successfully installed humanize-4.6.0\n"
     ]
    }
   ],
   "source": [
    "!pip install humanize"
   ]
  },
  {
   "cell_type": "code",
   "execution_count": null,
   "id": "06583ff7",
   "metadata": {},
   "outputs": [],
   "source": []
  }
 ],
 "metadata": {
  "kernelspec": {
   "display_name": "Python 3",
   "language": "python",
   "name": "python3"
  },
  "language_info": {
   "codemirror_mode": {
    "name": "ipython",
    "version": 3
   },
   "file_extension": ".py",
   "mimetype": "text/x-python",
   "name": "python",
   "nbconvert_exporter": "python",
   "pygments_lexer": "ipython3",
   "version": "3.8.8"
  }
 },
 "nbformat": 4,
 "nbformat_minor": 5
}
